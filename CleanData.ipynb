{
 "cells": [
  {
   "cell_type": "code",
   "execution_count": 2,
   "metadata": {
    "collapsed": true
   },
   "outputs": [],
   "source": [
    "import datetime\n",
    "import urllib2"
   ]
  },
  {
   "cell_type": "code",
   "execution_count": 36,
   "metadata": {
    "collapsed": false
   },
   "outputs": [
    {
     "name": "stdout",
     "output_type": "stream",
     "text": [
      "['http://web.mta.info/developers/data/nyct/turnstile/turnstile_160102.txt', 'http://web.mta.info/developers/data/nyct/turnstile/turnstile_160109.txt', 'http://web.mta.info/developers/data/nyct/turnstile/turnstile_160116.txt', 'http://web.mta.info/developers/data/nyct/turnstile/turnstile_160123.txt', 'http://web.mta.info/developers/data/nyct/turnstile/turnstile_160130.txt']\n"
     ]
    },
    {
     "ename": "TypeError",
     "evalue": "cannot concatenate 'str' and 'list' objects",
     "output_type": "error",
     "traceback": [
      "\u001b[0;31m---------------------------------------------------------------------------\u001b[0m",
      "\u001b[0;31mTypeError\u001b[0m                                 Traceback (most recent call last)",
      "\u001b[0;32m<ipython-input-36-8c03b633d6c2>\u001b[0m in \u001b[0;36m<module>\u001b[0;34m()\u001b[0m\n\u001b[1;32m     32\u001b[0m \u001b[0;34m\u001b[0m\u001b[0m\n\u001b[1;32m     33\u001b[0m \u001b[0;32mprint\u001b[0m \u001b[0mfiles_array\u001b[0m\u001b[0;34m[\u001b[0m\u001b[0;34m:\u001b[0m\u001b[0;36m5\u001b[0m\u001b[0;34m]\u001b[0m\u001b[0;34m\u001b[0m\u001b[0m\n\u001b[0;32m---> 34\u001b[0;31m \u001b[0;32mprint\u001b[0m \u001b[0;34m\"spring: \"\u001b[0m \u001b[0;34m+\u001b[0m \u001b[0mspring_files\u001b[0m\u001b[0;34m[\u001b[0m\u001b[0;34m:\u001b[0m\u001b[0;36m5\u001b[0m\u001b[0;34m]\u001b[0m\u001b[0;34m\u001b[0m\u001b[0m\n\u001b[0m\u001b[1;32m     35\u001b[0m \u001b[0;32mprint\u001b[0m \u001b[0msummer_files\u001b[0m\u001b[0;34m[\u001b[0m\u001b[0;34m:\u001b[0m\u001b[0;36m5\u001b[0m\u001b[0;34m]\u001b[0m\u001b[0;34m\u001b[0m\u001b[0m\n\u001b[1;32m     36\u001b[0m \u001b[0;32mprint\u001b[0m \u001b[0mfall_files\u001b[0m\u001b[0;34m[\u001b[0m\u001b[0;34m:\u001b[0m\u001b[0;36m5\u001b[0m\u001b[0;34m]\u001b[0m\u001b[0;34m\u001b[0m\u001b[0m\n",
      "\u001b[0;31mTypeError\u001b[0m: cannot concatenate 'str' and 'list' objects"
     ]
    }
   ],
   "source": [
    "#get files address for 2016 from MTA\n",
    "\n",
    "files_array = [] # total files\n",
    "spring_files = [] \n",
    "summer_files = []\n",
    "fall_files = []\n",
    "winter_files = []\n",
    "\n",
    "# get files address and sort by season\n",
    "def sort_by_season(t,addr):\n",
    "    month = str(t.strftime(\"%m\"))\n",
    "    if month[0] == '0':\n",
    "        month = month[1]\n",
    "        \n",
    "    if month == '3' or month == '4' or month == '5':\n",
    "        spring_files.append(addr)\n",
    "    elif month == '6' or month == '7' or month == '8':\n",
    "        summer_files.append(addr)\n",
    "    elif month == '9' or month == '10' or month == '11':\n",
    "        fall_files.append(addr)\n",
    "    else:\n",
    "        winter_files.append(addr)\n",
    "\n",
    "start_date = datetime.date(2016,1,2)\n",
    "end_date = datetime.date(2016,12,31)\n",
    "url = \"http://web.mta.info/developers/data/nyct/turnstile/turnstile_\"\n",
    "while (start_date <= end_date):\n",
    "    address = url + str(start_date.strftime(\"%y%m%d\"))+\".txt\"\n",
    "    files_array.append(address)\n",
    "    sort_by_season(start_date,address) \n",
    "    start_date += datetime.timedelta(days=7)\n",
    "    \n",
    "print files_array[:5]\n",
    "print spring_files[:5]\n",
    "print summer_files[:5]\n",
    "print fall_files[:5]\n",
    "print winter_files[:5]\n"
   ]
  },
  {
   "cell_type": "code",
   "execution_count": 4,
   "metadata": {
    "collapsed": false
   },
   "outputs": [
    {
     "name": "stdout",
     "output_type": "stream",
     "text": [
      "[('A002', 'R051', '02-00-00', '59 ST', 'NQR456', 'BMT', '12/26/2015', '03:00:00', 'REGULAR', '0005469540', '000184663'), ('A002', 'R051', '02-00-00', '59 ST', 'NQR456', 'BMT', '12/26/2015', '07:00:00', 'REGULAR', '0005469543', '000184664'), ('A002', 'R051', '02-00-00', '59 ST', 'NQR456', 'BMT', '12/26/2015', '11:00:00', 'REGULAR', '0005469617', '000184673'), ('A002', 'R051', '02-00-00', '59 ST', 'NQR456', 'BMT', '12/26/2015', '15:00:00', 'REGULAR', '0005469821', '000184680'), ('A002', 'R051', '02-00-00', '59 ST', 'NQR456', 'BMT', '12/26/2015', '19:00:00', 'REGULAR', '0005470180', '000184687'), ('A002', 'R051', '02-00-00', '59 ST', 'NQR456', 'BMT', '12/26/2015', '23:00:00', 'REGULAR', '0005470411', '000184690'), ('A002', 'R051', '02-00-00', '59 ST', 'NQR456', 'BMT', '12/27/2015', '03:00:00', 'REGULAR', '0005470459', '000184692'), ('A002', 'R051', '02-00-00', '59 ST', 'NQR456', 'BMT', '12/27/2015', '07:00:00', 'REGULAR', '0005470479', '000184693'), ('A002', 'R051', '02-00-00', '59 ST', 'NQR456', 'BMT', '12/27/2015', '11:00:00', 'REGULAR', '0005470529', '000184699'), ('A002', 'R051', '02-00-00', '59 ST', 'NQR456', 'BMT', '12/27/2015', '15:00:00', 'REGULAR', '0005470679', '000184700')]\n"
     ]
    }
   ],
   "source": [
    "my_array = []\n",
    "# my_array.append(['C/A', 'UNIT', 'SCP', 'STATION', 'LINENAME', \n",
    "#                  'DIVISION', 'DATE', 'TIME', 'DESC', 'ENTRIES', 'EXITS'])\n",
    "\n",
    "# convert json to array\n",
    "def convert_to_array(data):\n",
    "    my_line = data\n",
    "    my_line = my_line.split(',')\n",
    "    my_line_10 = my_line[10][:9]\n",
    "    my_line.remove(my_line[10])\n",
    "    my_line.append(my_line_10)\n",
    "    my_line = tuple(my_line)\n",
    "    my_array.append(my_line)\n",
    "    \n",
    "# get data from url\n",
    "def input_url(input_file):\n",
    "    data = urllib2.urlopen(input_file)\n",
    "    iter_data = iter(data)\n",
    "    next(iter_data)\n",
    "    for i in data:\n",
    "        convert_to_array(i)\n",
    "        \n",
    "#use for loop to get all the data\n",
    "input_url(files_array[0])\n",
    "\n",
    "print(my_array[:10])"
   ]
  },
  {
   "cell_type": "code",
   "execution_count": 15,
   "metadata": {
    "collapsed": false
   },
   "outputs": [
    {
     "data": {
      "text/plain": [
       "[('34 ST-PENN STA', 4221),\n",
       " ('FULTON ST', 4045),\n",
       " ('23 ST', 3006),\n",
       " ('GRD CNTRL-42 ST', 2450),\n",
       " ('CANAL ST', 2425),\n",
       " ('34 ST-HERALD SQ', 2305),\n",
       " ('CHAMBERS ST', 2267),\n",
       " ('86 ST', 2196),\n",
       " ('42 ST-PORT AUTH', 2162),\n",
       " ('59 ST', 2146)]"
      ]
     },
     "execution_count": 15,
     "metadata": {},
     "output_type": "execute_result"
    }
   ],
   "source": [
    "#the most popular place for first week of 2016\n",
    "def mapper1(row):\n",
    "    return (row[3])\n",
    "\n",
    "def reducer1(counts, pair):\n",
    "    counts[pair] = counts.get(pair, 0)+1\n",
    "    return counts\n",
    "\n",
    "output1 = reduce(reducer1, map(mapper1, my_array), {}).items()\n",
    "output1.sort(key=lambda x: x[1], reverse=True)\n",
    "\n",
    "output1[:10]"
   ]
  },
  {
   "cell_type": "code",
   "execution_count": null,
   "metadata": {
    "collapsed": false
   },
   "outputs": [],
   "source": []
  }
 ],
 "metadata": {
  "anaconda-cloud": {},
  "kernelspec": {
   "display_name": "Python [python2]",
   "language": "python",
   "name": "Python [python2]"
  },
  "language_info": {
   "codemirror_mode": {
    "name": "ipython",
    "version": 2
   },
   "file_extension": ".py",
   "mimetype": "text/x-python",
   "name": "python",
   "nbconvert_exporter": "python",
   "pygments_lexer": "ipython2",
   "version": "2.7.13"
  }
 },
 "nbformat": 4,
 "nbformat_minor": 0
}

{
 "cells": [
  {
   "cell_type": "code",
   "execution_count": 2,
   "metadata": {
    "collapsed": true
   },
   "outputs": [],
   "source": [
    "import datetime\n",
    "import urllib2"
   ]
  },
  {
   "cell_type": "code",
   "execution_count": 3,
   "metadata": {
    "collapsed": false
   },
   "outputs": [
    {
     "name": "stdout",
     "output_type": "stream",
     "text": [
      "['http://web.mta.info/developers/data/nyct/turnstile/turnstile_160102.txt', 'http://web.mta.info/developers/data/nyct/turnstile/turnstile_160109.txt', 'http://web.mta.info/developers/data/nyct/turnstile/turnstile_160116.txt', 'http://web.mta.info/developers/data/nyct/turnstile/turnstile_160123.txt', 'http://web.mta.info/developers/data/nyct/turnstile/turnstile_160130.txt']\n"
     ]
    }
   ],
   "source": [
    "#get files address for 2016 from MTA\n",
    "files_array = []\n",
    "start_date = datetime.date(2016,1,2)\n",
    "end_date = datetime.date(2016,12,31)\n",
    "url = \"http://web.mta.info/developers/data/nyct/turnstile/turnstile_\"\n",
    "while (start_date <= end_date):\n",
    "    address = url + str(start_date.strftime(\"%y%m%d\"))+\".txt\"\n",
    "    start_date += datetime.timedelta(days=7)\n",
    "    files_array.append(address)\n",
    "    \n",
    "print files_array[0:5]"
   ]
  },
  {
   "cell_type": "code",
   "execution_count": 4,
   "metadata": {
    "collapsed": false
   },
   "outputs": [
    {
     "name": "stdout",
     "output_type": "stream",
     "text": [
      "[('A002', 'R051', '02-00-00', '59 ST', 'NQR456', 'BMT', '12/26/2015', '03:00:00', 'REGULAR', '0005469540', '000184663'), ('A002', 'R051', '02-00-00', '59 ST', 'NQR456', 'BMT', '12/26/2015', '07:00:00', 'REGULAR', '0005469543', '000184664'), ('A002', 'R051', '02-00-00', '59 ST', 'NQR456', 'BMT', '12/26/2015', '11:00:00', 'REGULAR', '0005469617', '000184673'), ('A002', 'R051', '02-00-00', '59 ST', 'NQR456', 'BMT', '12/26/2015', '15:00:00', 'REGULAR', '0005469821', '000184680'), ('A002', 'R051', '02-00-00', '59 ST', 'NQR456', 'BMT', '12/26/2015', '19:00:00', 'REGULAR', '0005470180', '000184687'), ('A002', 'R051', '02-00-00', '59 ST', 'NQR456', 'BMT', '12/26/2015', '23:00:00', 'REGULAR', '0005470411', '000184690'), ('A002', 'R051', '02-00-00', '59 ST', 'NQR456', 'BMT', '12/27/2015', '03:00:00', 'REGULAR', '0005470459', '000184692'), ('A002', 'R051', '02-00-00', '59 ST', 'NQR456', 'BMT', '12/27/2015', '07:00:00', 'REGULAR', '0005470479', '000184693'), ('A002', 'R051', '02-00-00', '59 ST', 'NQR456', 'BMT', '12/27/2015', '11:00:00', 'REGULAR', '0005470529', '000184699'), ('A002', 'R051', '02-00-00', '59 ST', 'NQR456', 'BMT', '12/27/2015', '15:00:00', 'REGULAR', '0005470679', '000184700')]\n"
     ]
    }
   ],
   "source": [
    "my_array = []\n",
    "# my_array.append(['C/A', 'UNIT', 'SCP', 'STATION', 'LINENAME', \n",
    "#                  'DIVISION', 'DATE', 'TIME', 'DESC', 'ENTRIES', 'EXITS'])\n",
    "\n",
    "# convert json to array\n",
    "def convert_to_array(data):\n",
    "    my_line = data\n",
    "    my_line = my_line.split(',')\n",
    "    my_line_10 = my_line[10][:9]\n",
    "    my_line.remove(my_line[10])\n",
    "    my_line.append(my_line_10)\n",
    "    my_line = tuple(my_line)\n",
    "    my_array.append(my_line)\n",
    "    \n",
    "# get data from url\n",
    "def input_url(input_file):\n",
    "    data = urllib2.urlopen(input_file)\n",
    "    iter_data = iter(data)\n",
    "    next(iter_data)\n",
    "    for i in data:\n",
    "        convert_to_array(i)\n",
    "        \n",
    "#use for loop to get all the data\n",
    "input_url(files_array[0])\n",
    "\n",
    "print(my_array[:10])"
   ]
  },
  {
   "cell_type": "code",
   "execution_count": 15,
   "metadata": {
    "collapsed": false
   },
   "outputs": [
    {
     "data": {
      "text/plain": [
       "[('34 ST-PENN STA', 4221),\n",
       " ('FULTON ST', 4045),\n",
       " ('23 ST', 3006),\n",
       " ('GRD CNTRL-42 ST', 2450),\n",
       " ('CANAL ST', 2425),\n",
       " ('34 ST-HERALD SQ', 2305),\n",
       " ('CHAMBERS ST', 2267),\n",
       " ('86 ST', 2196),\n",
       " ('42 ST-PORT AUTH', 2162),\n",
       " ('59 ST', 2146)]"
      ]
     },
     "execution_count": 15,
     "metadata": {},
     "output_type": "execute_result"
    }
   ],
   "source": [
    "#the most popular place for 2016\n",
    "def mapper1(row):\n",
    "    return (row[3])\n",
    "\n",
    "def reducer1(counts, pair):\n",
    "    counts[pair] = counts.get(pair, 0)+1\n",
    "    return counts\n",
    "\n",
    "output1 = reduce(reducer1, map(mapper1, my_array), {}).items()\n",
    "output1.sort(key=lambda x: x[1], reverse=True)\n",
    "\n",
    "output1[:10]"
   ]
  },
  {
   "cell_type": "code",
   "execution_count": null,
   "metadata": {
    "collapsed": false
   },
   "outputs": [],
   "source": []
  },
  {
   "cell_type": "code",
   "execution_count": null,
   "metadata": {
    "collapsed": true
   },
   "outputs": [],
   "source": []
  }
 ],
 "metadata": {
  "anaconda-cloud": {},
  "kernelspec": {
   "display_name": "Python [python2]",
   "language": "python",
   "name": "Python [python2]"
  },
  "language_info": {
   "codemirror_mode": {
    "name": "ipython",
    "version": 2
   },
   "file_extension": ".py",
   "mimetype": "text/x-python",
   "name": "python",
   "nbconvert_exporter": "python",
   "pygments_lexer": "ipython2",
   "version": "2.7.13"
  }
 },
 "nbformat": 4,
 "nbformat_minor": 0
}

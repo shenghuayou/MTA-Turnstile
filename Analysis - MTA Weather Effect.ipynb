{
 "cells": [
  {
   "cell_type": "markdown",
   "metadata": {},
   "source": [
    "# How does weather affect the amount of people using the station? #"
   ]
  },
  {
   "cell_type": "code",
   "execution_count": 1,
   "metadata": {
    "collapsed": true
   },
   "outputs": [],
   "source": [
    "import matplotlib.pyplot as plt\n",
    "import pandas as pd\n",
    "\n",
    "%matplotlib inline"
   ]
  },
  {
   "cell_type": "code",
   "execution_count": 2,
   "metadata": {
    "collapsed": false
   },
   "outputs": [
    {
     "data": {
      "text/plain": [
       "<matplotlib.axes._subplots.AxesSubplot at 0x92d27f0>"
      ]
     },
     "execution_count": 2,
     "metadata": {},
     "output_type": "execute_result"
    },
    {
     "data": {
      "image/png": "[encoded data removed]",
      "text/plain": [
       "<matplotlib.figure.Figure at 0x430cd30>"
      ]
     },
     "metadata": {},
     "output_type": "display_data"
    }
   ],
   "source": [
    "# get the data\n",
    "overall = [('Rain', 4715522L),\n",
    "             ('Rain , Snow', 4619726),\n",
    "             ('Fog , Snow', 3844535),\n",
    "             ('Fog , Rain', 4722427),\n",
    "             ('Clear Skies', 4639989),\n",
    "             ('Snow', 4354041),\n",
    "             ('Fog', 5243310),\n",
    "             ('Fog , Rain , Snow', 4365354),\n",
    "             ('Thunderstorm', 2311591)]\n",
    "\n",
    "# convert to dataframe\n",
    "dfOverall = pd.DataFrame(overall)\n",
    "dfOverall.columns = ['Event','Avg. People']\n",
    "dfOverall.plot(x='Event', y='Avg. People', kind='bar')"
   ]
  },
  {
   "cell_type": "code",
   "execution_count": 3,
   "metadata": {
    "collapsed": false,
    "scrolled": false
   },
   "outputs": [
    {
     "data": {
      "image/png": "[encoded data removed]",
      "text/plain": [
       "<matplotlib.figure.Figure at 0x970d5f8>"
      ]
     },
     "metadata": {},
     "output_type": "display_data"
    }
   ],
   "source": [
    "dayweek =  [(('Friday', 'Clear Skies'), 1147607261),\n",
    " (('Friday', 'Fog , Rain'), 100895970),\n",
    " (('Friday', 'Fog , Rain , Snow'), 16036017),\n",
    " (('Friday', 'Fog , Snow'), 26094128),\n",
    " (('Friday', 'Rain'), 339233210),\n",
    " (('Friday', 'Rain , Snow'), 5548018),\n",
    " (('Friday', 'Snow'), 36474706),\n",
    " (('Monday', 'Clear Skies'), 1063972752),\n",
    " (('Monday', 'Fog'), 16086797),\n",
    " (('Monday', 'Fog , Rain'), 90753281),\n",
    " (('Monday', 'Fog , Rain , Snow'), 18767182),\n",
    " (('Monday', 'Fog , Snow'), 7936418),\n",
    " (('Monday', 'Rain'), 336108880),\n",
    " (('Monday', 'Rain , Snow'), 30425522),\n",
    " (('Monday', 'Snow'), 39979332),\n",
    " (('Saturday', 'Clear Skies'), 663604977),\n",
    " (('Saturday', 'Fog , Rain'), 24319362),\n",
    " (('Saturday', 'Fog , Rain , Snow'), 14357643),\n",
    " (('Saturday', 'Fog , Snow'), 18822966),\n",
    " (('Saturday', 'Rain'), 201335326),\n",
    " (('Saturday', 'Rain , Snow'), 5952711),\n",
    " (('Saturday', 'Snow'), 33980296),\n",
    " (('Sunday', 'Clear Skies'), 545105697),\n",
    " (('Sunday', 'Fog'), 2413018),\n",
    " (('Sunday', 'Fog , Rain'), 38022551),\n",
    " (('Sunday', 'Fog , Snow'), 7172208),\n",
    " (('Sunday', 'Rain'), 155399326),\n",
    " (('Sunday', 'Rain , Snow'), 7553347),\n",
    " (('Sunday', 'Snow'), 24044069),\n",
    " (('Sunday', 'Thunderstorm'), 2311591),\n",
    " (('Thursday', 'Clear Skies'), 1084634111),\n",
    " (('Thursday', 'Fog'), 5580686),\n",
    " (('Thursday', 'Fog , Rain'), 109478823),\n",
    " (('Thursday', 'Fog , Rain , Snow'), 9184215),\n",
    " (('Thursday', 'Fog , Snow'), 8816932),\n",
    " (('Thursday', 'Rain'), 436369678),\n",
    " (('Thursday', 'Rain , Snow'), 5424313),\n",
    " (('Thursday', 'Snow'), 52368436),\n",
    " (('Tuesday', 'Clear Skies'), 1051569783),\n",
    " (('Tuesday', 'Fog'), 15859524),\n",
    " (('Tuesday', 'Fog , Rain'), 75755521),\n",
    " (('Tuesday', 'Fog , Rain , Snow'), 5810331),\n",
    " (('Tuesday', 'Fog , Snow'), 23044047),\n",
    " (('Tuesday', 'Rain'), 486619892),\n",
    " (('Tuesday', 'Rain , Snow'), 32995678),\n",
    " (('Tuesday', 'Snow'), 22376274),\n",
    " (('Wednesday', 'Clear Skies'), 1083330400),\n",
    " (('Wednesday', 'Fog'), 17736386),\n",
    " (('Wednesday', 'Fog , Rain'), 99131228),\n",
    " (('Wednesday', 'Fog , Rain , Snow'), 18786353),\n",
    " (('Wednesday', 'Fog , Snow'), 4226676),\n",
    " (('Wednesday', 'Rain'), 454565538),\n",
    " (('Wednesday', 'Rain , Snow'), 18354114),\n",
    " (('Wednesday', 'Snow'), 34603219)]\n",
    "\n",
    "# flatten first\n",
    "# convert to dataframe\n",
    "flatList = []\n",
    "for items in dayweek:\n",
    "    flatList.append((items[0][0], items[0][1], items[1]))\n",
    "dfDayweek = pd.DataFrame(flatList)\n",
    "dfDayweek.columns = ['Dayweek', 'Event','AvgPeople']\n",
    "(listDayweek, listEvent, listAvg) = (dfDayweek.Dayweek.tolist(), \\\n",
    "                                     dfDayweek.Event.tolist(), \\\n",
    "                                     dfDayweek.AvgPeople.tolist())\n",
    "listEventTags = []\n",
    "for values in listEvent:\n",
    "    if values == 'Clear Skies':\n",
    "        listEventTags.append(1)\n",
    "    if values == 'Fog':\n",
    "        listEventTags.append(2)\n",
    "    if values == 'Fog , Rain':\n",
    "        listEventTags.append(3)\n",
    "    if values == 'Fog , Snow':\n",
    "        listEventTags.append(4)\n",
    "    if values == 'Fog , Rain , Snow':\n",
    "        listEventTags.append(5)\n",
    "    if values == 'Rain':\n",
    "        listEventTags.append(6)\n",
    "    if values == 'Rain , Snow':\n",
    "        listEventTags.append(7)\n",
    "    if values == 'Snow':\n",
    "        listEventTags.append(8)\n",
    "    if values == 'Thunderstorm':\n",
    "        listEventTags.append(9)\n",
    "\n",
    "df = pd.DataFrame(dict(event=listEventTags, people=listAvg, color=listDayweek))\n",
    "fig, ax = plt.subplots(figsize=(10,5))\n",
    "ax.set_ylim([0, 1200000000])\n",
    "colors = {'Monday':'red', 'Tuesday':'blue', 'Wednesday':'green', 'Thursday':'black', 'Friday': 'orange', 'Saturday': 'pink', 'Sunday': 'purple'}\n",
    "ax.scatter(df['event'], df['people'], c=df['color'].apply(lambda x: colors[x]))\n",
    "renamed = ['', 'Clear Skies','Fog','Fog, Rain','Fog, Snow', 'Fog, Rain, Snow', 'Rain', 'Rain, Snow', 'Snow', 'Thunderstorm']\n",
    "ax.set_xticklabels(renamed, rotation='vertical')\n",
    "plt.show()\n"
   ]
  },
  {
   "cell_type": "code",
   "execution_count": null,
   "metadata": {
    "collapsed": false
   },
   "outputs": [],
   "source": []
  },
  {
   "cell_type": "code",
   "execution_count": null,
   "metadata": {
    "collapsed": true
   },
   "outputs": [],
   "source": []
  }
 ],
 "metadata": {
  "anaconda-cloud": {},
  "kernelspec": {
   "display_name": "Python 2",
   "language": "python",
   "name": "python2"
  },
  "language_info": {
   "codemirror_mode": {
    "name": "ipython",
    "version": 2
   },
   "file_extension": ".py",
   "mimetype": "text/x-python",
   "name": "python",
   "nbconvert_exporter": "python",
   "pygments_lexer": "ipython2",
   "version": "2.7.13"
  }
 },
 "nbformat": 4,
 "nbformat_minor": 0
}

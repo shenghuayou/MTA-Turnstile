{
 "cells": [
  {
   "cell_type": "code",
   "execution_count": 1,
   "metadata": {
    "collapsed": false
   },
   "outputs": [
    {
     "data": {
      "text/plain": [
       "<pyspark.context.SparkContext at 0x6244828>"
      ]
     },
     "execution_count": 1,
     "metadata": {},
     "output_type": "execute_result"
    }
   ],
   "source": [
    "sc"
   ]
  },
  {
   "cell_type": "markdown",
   "metadata": {},
   "source": [
    "### Price hike Days\n",
    "\n",
    "$2.25 base fare (December 30, 2010 – March 2, 2013)\n",
    "\n",
    "$2.50 base fare (March 3, 2013 – March 21, 2015)\n",
    "\n",
    "$2.75 base fare (March 22, 2015 – present)"
   ]
  },
  {
   "cell_type": "markdown",
   "metadata": {},
   "source": [
    "#### Overall Ridership by price hike periods"
   ]
  },
  {
   "cell_type": "code",
   "execution_count": 6,
   "metadata": {
    "collapsed": false
   },
   "outputs": [
    {
     "data": {
      "text/plain": [
       "[('A', 3278021), ('B', 4695106L), ('C', 4711762L)]"
      ]
     },
     "execution_count": 6,
     "metadata": {},
     "output_type": "execute_result"
    }
   ],
   "source": [
    "def mapper4(index, data):\n",
    "    if index == 0:\n",
    "        data.next()\n",
    "    import csv\n",
    "    import datetime as dt\n",
    "    reader = csv.reader(data)\n",
    "    firstPriceHike = dt.datetime.strptime('12/30/2010','%m/%d/%Y')\n",
    "    secndPriceHike = dt.datetime.strptime('03/03/2013','%m/%d/%Y')\n",
    "    thirdPriceHike = dt.datetime.strptime('03/22/2015','%m/%d/%Y')\n",
    "    for row in reader:\n",
    "        date = dt.datetime.strptime(row[1],'%m/%d/%Y')\n",
    "        numPeople = row[5].split('.')[0]\n",
    "        if (date <= firstPriceHike):\n",
    "            yield ('A',int(numPeople))\n",
    "        if (date >= secndPriceHike and date < thirdPriceHike):\n",
    "            yield ('B',int(numPeople))\n",
    "        if (date >= thirdPriceHike):\n",
    "            yield ('C',int(numPeople))\n",
    "            \n",
    "def mapper5(index,data):\n",
    "    if index == 0:\n",
    "        data.next()\n",
    "    import csv\n",
    "    import datetime as dt\n",
    "    reader = csv.reader(data)\n",
    "    firstPriceHike = dt.datetime.strptime('12/30/2010','%m/%d/%Y')\n",
    "    secndPriceHike = dt.datetime.strptime('03/03/2013','%m/%d/%Y')\n",
    "    thirdPriceHike = dt.datetime.strptime('03/22/2015','%m/%d/%Y')\n",
    "    for row in reader:\n",
    "        date = dt.datetime.strptime(row[1],'%m/%d/%Y')\n",
    "        if (date <= firstPriceHike):\n",
    "            yield (date,('A',1))\n",
    "        if (date >= secndPriceHike and date < thirdPriceHike):\n",
    "            yield (date,('B',1))\n",
    "        if (date >= thirdPriceHike):\n",
    "            yield (date,('C',1))\n",
    "        \n",
    "mtaData = sc.textFile('dataset/clean-mta-data/clean-mta-data.csv',use_unicode=False).cache()\n",
    "\n",
    "# Gather the number of passengers for each price hike\n",
    "# category => A == firstPriceHike, B == SecondPriceHike, C == ThirdPriceHike\n",
    "# return (category, num_passengers)\n",
    "rdd4 = mtaData.mapPartitionsWithIndex(mapper4) \\\n",
    "                .reduceByKey(lambda x,y: x+y)\n",
    "\n",
    "    \n",
    "# Categorize by price hikes then get unique days\n",
    "# Re-format the data to (category, c)\n",
    "# Perform summation to get number of days in each category\n",
    "# return (category, num_days)\n",
    "rdd5 = mtaData.mapPartitionsWithIndex(mapper5) \\\n",
    "                .distinct() \\\n",
    "                .map(lambda (d,(cat,c)): (cat, c)) \\\n",
    "                .reduceByKey(lambda x,y: x+y)\n",
    "            \n",
    "# Join the rdd's by category\n",
    "# Get the average of number of people over the number of days\n",
    "# return (category, avg)\n",
    "rdd6 = rdd4.join(rdd5) \\\n",
    "            .map(lambda (cat,(s,c)): (cat, s/c)) \\\n",
    "            .sortByKey() \\\n",
    "            .collect()\n",
    "            \n",
    "rdd6"
   ]
  },
  {
   "cell_type": "markdown",
   "metadata": {},
   "source": [
    "#### Average ridership by month/year"
   ]
  },
  {
   "cell_type": "code",
   "execution_count": 5,
   "metadata": {
    "collapsed": false,
    "scrolled": true
   },
   "outputs": [
    {
     "data": {
      "text/plain": [
       "[('01/2011', 4228996),\n",
       " ('01/2012', 4440303),\n",
       " ('01/2013', 4590113),\n",
       " ('01/2014', 4543426),\n",
       " ('01/2015', 4381933),\n",
       " ('01/2016', 4410371),\n",
       " ('02/2011', 4542155),\n",
       " ('02/2012', 4723306),\n",
       " ('02/2013', 4778886),\n",
       " ('02/2014', 4742798),\n",
       " ('02/2015', 4734414),\n",
       " ('02/2016', 4709885),\n",
       " ('03/2011', 4689067),\n",
       " ('03/2012', 4759470),\n",
       " ('03/2013', 4867464),\n",
       " ('03/2014', 4760395),\n",
       " ('03/2015', 4840012),\n",
       " ('03/2016', 4936037),\n",
       " ('04/2011', 4432242),\n",
       " ('04/2012', 4611022),\n",
       " ('04/2013', 5047991),\n",
       " ('04/2014', 4833446),\n",
       " ('04/2015', 4875570),\n",
       " ('04/2016', 4727236),\n",
       " ('05/2011', 4466144),\n",
       " ('05/2012', 4900801),\n",
       " ('05/2013', 4944946),\n",
       " ('05/2014', 4779486),\n",
       " ('05/2015', 4746504),\n",
       " ('05/2016', 4720357),\n",
       " ('06/2011', 4555737),\n",
       " ('06/2012', 4822098),\n",
       " ('06/2013', 4769061),\n",
       " ('06/2014', 4773165),\n",
       " ('06/2015', 4921604),\n",
       " ('06/2016', 4816936),\n",
       " ('07/2011', 4085954),\n",
       " ('07/2012', 4514046),\n",
       " ('07/2013', 4570359),\n",
       " ('07/2014', 4593889),\n",
       " ('07/2015', 4606218),\n",
       " ('07/2016', 4290267),\n",
       " ('08/2011', 4056023),\n",
       " ('08/2012', 4601515),\n",
       " ('08/2013', 4505236),\n",
       " ('08/2014', 4375962),\n",
       " ('08/2015', 4372933),\n",
       " ('08/2016', 4423622),\n",
       " ('09/2011', 4551418),\n",
       " ('09/2012', 4654163),\n",
       " ('09/2013', 4754290),\n",
       " ('09/2014', 4863730),\n",
       " ('09/2015', 4738744),\n",
       " ('09/2016', 4734454),\n",
       " ('10/2011', 4578596),\n",
       " ('10/2012', 4476119),\n",
       " ('10/2013', 5027883),\n",
       " ('10/2014', 4969084),\n",
       " ('10/2015', 4981866),\n",
       " ('10/2016', 4646195),\n",
       " ('11/2011', 4704198),\n",
       " ('11/2012', 4146490),\n",
       " ('11/2013', 4789841),\n",
       " ('11/2014', 3971288),\n",
       " ('11/2015', 4814916),\n",
       " ('11/2016', 4860199),\n",
       " ('12/2010', 3348501),\n",
       " ('12/2011', 4675165),\n",
       " ('12/2012', 4549212),\n",
       " ('12/2013', 4694500),\n",
       " ('12/2014', 4291382),\n",
       " ('12/2015', 4859153),\n",
       " ('12/2016', 4754855)]"
      ]
     },
     "execution_count": 5,
     "metadata": {},
     "output_type": "execute_result"
    }
   ],
   "source": [
    "import datetime as dt\n",
    "\n",
    "def mapper1(index,data):\n",
    "    # skip header row\n",
    "    if index==0:\n",
    "        data.next()\n",
    "    import csv\n",
    "    reader = csv.reader(data)\n",
    "    for row in reader:\n",
    "        date = row[1].split('/')[0] + '/' + row[1].split('/')[2]\n",
    "        numPeople = row[5].split('.')[0]\n",
    "        yield (date, int(numPeople))\n",
    "\n",
    "def mapper2(index,data):\n",
    "    # skip header row\n",
    "    if index==0:\n",
    "        data.next()\n",
    "    import csv\n",
    "    reader = csv.reader(data)\n",
    "    for row in reader:\n",
    "        date = row[1]\n",
    "        yield date\n",
    "\n",
    "mtaData = sc.textFile('dataset/clean-mta-data/clean-mta-data.csv',use_unicode=False).cache()\n",
    "\n",
    "# For each month in 2011-2016, gather the number of passengers\n",
    "# return (%m/%Y, num_passengers)\n",
    "rdd1 = mtaData.mapPartitionsWithIndex(mapper1) \\\n",
    "                .reduceByKey(lambda x,y: x+y)\n",
    "    \n",
    "# Gather the number of days for each month (map+distinct)\n",
    "# Reformat the %m/%d/%Y to %m/%Y (map)\n",
    "# Perform a summation to get the total days per month/year (reduce)\n",
    "# returns (%m/%Y, number of days in month)\n",
    "rdd2 = mtaData.mapPartitionsWithIndex(mapper2) \\\n",
    "                .distinct() \\\n",
    "                .map(lambda x: (dt.datetime.strptime(x,'%m/%d/%Y').strftime('%m/%Y'),1)) \\\n",
    "                .reduceByKey(lambda x,y: x+y)\n",
    "            \n",
    "            \n",
    "# Join the 2 rdds on date\n",
    "# d = date, s = number_passengers_per_month, c = total_days_per_month\n",
    "# Get the average number of people per day\n",
    "# returns (date, avg)\n",
    "rdd3 = rdd1.join(rdd2) \\\n",
    "            .map(lambda (d, (s, c)): (d, s/c)) \\\n",
    "            .sortByKey(True) \\\n",
    "            .collect()\n",
    "            \n",
    "rdd3"
   ]
  },
  {
   "cell_type": "code",
   "execution_count": null,
   "metadata": {
    "collapsed": true
   },
   "outputs": [],
   "source": []
  }
 ],
 "metadata": {
  "anaconda-cloud": {},
  "kernelspec": {
   "display_name": "Python [conda env:python2]",
   "language": "python",
   "name": "conda-env-python2-py"
  },
  "language_info": {
   "codemirror_mode": {
    "name": "ipython",
    "version": 2
   },
   "file_extension": ".py",
   "mimetype": "text/x-python",
   "name": "python",
   "nbconvert_exporter": "python",
   "pygments_lexer": "ipython2",
   "version": "2.7.13"
  }
 },
 "nbformat": 4,
 "nbformat_minor": 1
}

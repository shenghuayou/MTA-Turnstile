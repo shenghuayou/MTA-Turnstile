{
 "cells": [
  {
   "cell_type": "code",
   "execution_count": 1,
   "metadata": {
    "collapsed": false
   },
   "outputs": [
    {
     "data": {
      "text/plain": [
       "<pyspark.context.SparkContext at 0x63f6b00>"
      ]
     },
     "execution_count": 1,
     "metadata": {},
     "output_type": "execute_result"
    }
   ],
   "source": [
    "sc"
   ]
  },
  {
   "cell_type": "markdown",
   "metadata": {},
   "source": [
    "### Finding the average amount of people using the MTA during different weather conditions during 2011-2016"
   ]
  },
  {
   "cell_type": "code",
   "execution_count": 2,
   "metadata": {
    "collapsed": false
   },
   "outputs": [
    {
     "data": {
      "text/plain": [
       "[('Rain', 4715522L),\n",
       " ('Rain , Snow', 4619726),\n",
       " ('Fog , Snow', 3844535),\n",
       " ('Fog , Rain', 4722427),\n",
       " ('Clear Skies', 4639989L),\n",
       " ('Snow', 4354041),\n",
       " ('Fog', 5243310),\n",
       " ('Fog , Rain , Snow', 4365354),\n",
       " ('Thunderstorm', 2311591)]"
      ]
     },
     "execution_count": 2,
     "metadata": {},
     "output_type": "execute_result"
    }
   ],
   "source": [
    "def mapper1(index,data):\n",
    "    # skip header row\n",
    "    if index==0:\n",
    "        data.next()\n",
    "    import csv\n",
    "    reader = csv.reader(data)\n",
    "    for row in reader:\n",
    "        if row[1].split('/')[2] != '2010':\n",
    "            date = row[1]\n",
    "            event = row[4]\n",
    "            numPeople = row[5].split('.')[0]\n",
    "            if event == 'Normal':\n",
    "                yield ((date,'Clear Skies'), int(numPeople))\n",
    "            else:\n",
    "                yield ((date,event), int(numPeople))\n",
    "        \n",
    "def mapper2(index,data):\n",
    "    # skip header row\n",
    "    if index==0:\n",
    "        data.next()\n",
    "    import csv\n",
    "    reader = csv.reader(data)\n",
    "    for row in reader:\n",
    "        if row[1].split('/')[2] != '2010':\n",
    "            date = row[1]\n",
    "            event = row[4]\n",
    "            if event == 'Normal':\n",
    "                yield ((date, 'Clear Skies'), 1)\n",
    "            else:\n",
    "                yield ((date, event), 1)\n",
    "\n",
    "mtaData = sc.textFile('dataset/clean-mta-data/clean-mta-data.csv',use_unicode=False).cache()\n",
    "\n",
    "# sum up all the entry by weather\n",
    "# returns (event, total_people)\n",
    "rdd1 = mtaData.mapPartitionsWithIndex(mapper1) \\\n",
    "                .reduceByKey(lambda x,y: x+y) \\\n",
    "                .map(lambda ((d,e),s): (e,s)) \\\n",
    "                .reduceByKey(lambda x,y: x+y)\n",
    "\n",
    "# count how many days that have certain weather\n",
    "# d = date; e = event; c = count;\n",
    "# returns (event, count)\n",
    "rdd2 = mtaData.mapPartitionsWithIndex(mapper2) \\\n",
    "               .distinct() \\\n",
    "               .map(lambda ((d,e),c): (e,c)) \\\n",
    "               .reduceByKey(lambda x,y: x+y)\n",
    "\n",
    "# get average Entry in day for weather\n",
    "# d = date; e = event; c = count; s = summation\n",
    "# returns (event, average_peple_per_weather)\n",
    "rdd3 = rdd1.join(rdd2) \\\n",
    "           .map(lambda (e, (s, c)): (e, s/c)) \\\n",
    "           .collect()\n",
    "rdd3"
   ]
  },
  {
   "cell_type": "markdown",
   "metadata": {},
   "source": [
    "### Find the average amount of people using the MTA by day of the week and weather condition"
   ]
  },
  {
   "cell_type": "code",
   "execution_count": 3,
   "metadata": {
    "collapsed": false
   },
   "outputs": [
    {
     "data": {
      "text/plain": [
       "[(('Friday', 'Clear Skies'), 1147607261),\n",
       " (('Friday', 'Fog , Rain'), 100895970),\n",
       " (('Friday', 'Fog , Rain , Snow'), 16036017),\n",
       " (('Friday', 'Fog , Snow'), 26094128),\n",
       " (('Friday', 'Rain'), 339233210),\n",
       " (('Friday', 'Rain , Snow'), 5548018),\n",
       " (('Friday', 'Snow'), 36474706),\n",
       " (('Monday', 'Clear Skies'), 1063972752),\n",
       " (('Monday', 'Fog'), 16086797),\n",
       " (('Monday', 'Fog , Rain'), 90753281),\n",
       " (('Monday', 'Fog , Rain , Snow'), 18767182),\n",
       " (('Monday', 'Fog , Snow'), 7936418),\n",
       " (('Monday', 'Rain'), 336108880),\n",
       " (('Monday', 'Rain , Snow'), 30425522),\n",
       " (('Monday', 'Snow'), 39979332),\n",
       " (('Saturday', 'Clear Skies'), 663604977),\n",
       " (('Saturday', 'Fog , Rain'), 24319362),\n",
       " (('Saturday', 'Fog , Rain , Snow'), 14357643),\n",
       " (('Saturday', 'Fog , Snow'), 18822966),\n",
       " (('Saturday', 'Rain'), 201335326),\n",
       " (('Saturday', 'Rain , Snow'), 5952711),\n",
       " (('Saturday', 'Snow'), 33980296),\n",
       " (('Sunday', 'Clear Skies'), 545105697),\n",
       " (('Sunday', 'Fog'), 2413018),\n",
       " (('Sunday', 'Fog , Rain'), 38022551),\n",
       " (('Sunday', 'Fog , Snow'), 7172208),\n",
       " (('Sunday', 'Rain'), 155399326),\n",
       " (('Sunday', 'Rain , Snow'), 7553347),\n",
       " (('Sunday', 'Snow'), 24044069),\n",
       " (('Sunday', 'Thunderstorm'), 2311591),\n",
       " (('Thursday', 'Clear Skies'), 1084634111),\n",
       " (('Thursday', 'Fog'), 5580686),\n",
       " (('Thursday', 'Fog , Rain'), 109478823),\n",
       " (('Thursday', 'Fog , Rain , Snow'), 9184215),\n",
       " (('Thursday', 'Fog , Snow'), 8816932),\n",
       " (('Thursday', 'Rain'), 436369678),\n",
       " (('Thursday', 'Rain , Snow'), 5424313),\n",
       " (('Thursday', 'Snow'), 52368436),\n",
       " (('Tuesday', 'Clear Skies'), 1051569783),\n",
       " (('Tuesday', 'Fog'), 15859524),\n",
       " (('Tuesday', 'Fog , Rain'), 75755521),\n",
       " (('Tuesday', 'Fog , Rain , Snow'), 5810331),\n",
       " (('Tuesday', 'Fog , Snow'), 23044047),\n",
       " (('Tuesday', 'Rain'), 486619892),\n",
       " (('Tuesday', 'Rain , Snow'), 32995678),\n",
       " (('Tuesday', 'Snow'), 22376274),\n",
       " (('Wednesday', 'Clear Skies'), 1083330400),\n",
       " (('Wednesday', 'Fog'), 17736386),\n",
       " (('Wednesday', 'Fog , Rain'), 99131228),\n",
       " (('Wednesday', 'Fog , Rain , Snow'), 18786353),\n",
       " (('Wednesday', 'Fog , Snow'), 4226676),\n",
       " (('Wednesday', 'Rain'), 454565538),\n",
       " (('Wednesday', 'Rain , Snow'), 18354114),\n",
       " (('Wednesday', 'Snow'), 34603219)]"
      ]
     },
     "execution_count": 3,
     "metadata": {},
     "output_type": "execute_result"
    }
   ],
   "source": [
    "def mapper3(index,data):\n",
    "    # skip header row\n",
    "    if index==0:\n",
    "        data.next()\n",
    "    import csv\n",
    "    import datetime\n",
    "    reader = csv.reader(data)\n",
    "    for row in reader:\n",
    "        if row[1].split('/')[2] != '2010':\n",
    "            date = datetime.datetime.strptime(row[1], '%m/%d/%Y').strftime(\"%A\")\n",
    "            event = row[4]\n",
    "            numPeople = row[5].split('.')[0]\n",
    "            if event == 'Normal':\n",
    "                yield ((date, 'Clear Skies'), int(numPeople))\n",
    "            else:\n",
    "                yield ((date,event), int(numPeople))\n",
    "            \n",
    "def mapper4(index,data):\n",
    "    # skip header row\n",
    "    if index==0:\n",
    "        data.next()\n",
    "    import csv\n",
    "    import datetime\n",
    "    reader = csv.reader(data)\n",
    "    for row in reader:\n",
    "        if row[1].split('/')[2] != '2010':\n",
    "            date = datetime.datetime.strptime(row[1], '%m/%d/%Y').strftime(\"%A\")\n",
    "            event = row[4]\n",
    "            if event == 'Normal':\n",
    "                yield ((date, 'Clear Skies'), 1)\n",
    "            else:\n",
    "                yield ((date, event), 1)\n",
    "\n",
    "mtaData = sc.textFile('dataset/clean-mta-data/clean-mta-data.csv',use_unicode=False).cache()\n",
    "\n",
    "# get the amount of people using the mta on each day of the week for different weathers\n",
    "# returns ((weekday, event), summation_of_passengers)\n",
    "rdd4 = mtaData.mapPartitionsWithIndex(mapper3)  \\\n",
    "                .reduceByKey(lambda x,y: x+y)\n",
    "\n",
    "# get the number of days by each day of the week (hour) for different weathers\n",
    "# returns ((weekday, event), summation_of_day_hour)\n",
    "rdd5 = mtaData.mapPartitionsWithIndex(mapper4) \\\n",
    "                .distinct() \\\n",
    "                .reduceByKey(lambda x,y: x+y) \\\n",
    "        \n",
    "# get the average number of people using the MTA on different days of the week and weather condition\n",
    "# returns ((weekday, event), avg)\n",
    "rdd6 = rdd4.join(rdd5) \\\n",
    "           .map(lambda (e, (s, c)): (e, s/c)) \\\n",
    "           .sortByKey(True) \\\n",
    "           .collect()\n",
    "\n",
    "rdd6"
   ]
  },
  {
   "cell_type": "code",
   "execution_count": null,
   "metadata": {
    "collapsed": true
   },
   "outputs": [],
   "source": []
  }
 ],
 "metadata": {
  "anaconda-cloud": {},
  "kernelspec": {
   "display_name": "Python [python2]",
   "language": "python",
   "name": "Python [python2]"
  },
  "language_info": {
   "codemirror_mode": {
    "name": "ipython",
    "version": 2
   },
   "file_extension": ".py",
   "mimetype": "text/x-python",
   "name": "python",
   "nbconvert_exporter": "python",
   "pygments_lexer": "ipython2",
   "version": "2.7.13"
  }
 },
 "nbformat": 4,
 "nbformat_minor": 1
}

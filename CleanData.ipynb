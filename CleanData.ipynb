{
 "cells": [
  {
   "cell_type": "code",
   "execution_count": 17,
   "metadata": {
    "collapsed": true
   },
   "outputs": [],
   "source": [
    "import datetime\n",
    "import urllib2"
   ]
  },
  {
   "cell_type": "code",
   "execution_count": 15,
   "metadata": {
    "collapsed": false
   },
   "outputs": [
    {
     "name": "stdout",
     "output_type": "stream",
     "text": [
      "['http://web.mta.info/developers/data/nyct/turnstile/turnstile_160102.txt', 'http://web.mta.info/developers/data/nyct/turnstile/turnstile_160109.txt', 'http://web.mta.info/developers/data/nyct/turnstile/turnstile_160116.txt', 'http://web.mta.info/developers/data/nyct/turnstile/turnstile_160123.txt', 'http://web.mta.info/developers/data/nyct/turnstile/turnstile_160130.txt']\n"
     ]
    }
   ],
   "source": [
    "#get files address for 2016 from MTA\n",
    "files_array = []\n",
    "start_date = datetime.date(2016,1,2)\n",
    "end_date = datetime.date(2016,12,31)\n",
    "url = \"http://web.mta.info/developers/data/nyct/turnstile/turnstile_\"\n",
    "while (start_date <= end_date):\n",
    "    address = url + str(start_date.strftime(\"%y%m%d\"))+\".txt\"\n",
    "    start_date += datetime.timedelta(days=7)\n",
    "    files_array.append(address)\n",
    "    \n",
    "print files_array[0:5]"
   ]
  },
  {
   "cell_type": "code",
   "execution_count": 44,
   "metadata": {
    "collapsed": false
   },
   "outputs": [
    {
     "name": "stdout",
     "output_type": "stream",
     "text": [
      "C/A,UNIT,SCP,STATION,LINENAME,DIVISION,DATE,TIME,DESC,ENTRIES,EXITS                                                               \n",
      "\n",
      "A002,R051,02-00-00,59 ST,NQR456,BMT,12/26/2015,07:00:00,REGULAR,0005469543,0001846640                                             \n",
      "\n",
      "A002,R051,02-00-00,59 ST,NQR456,BMT,12/26/2015,15:00:00,REGULAR,0005469821,0001846805                                             \n",
      "\n",
      "A002,R051,02-00-00,59 ST,NQR456,BMT,12/26/2015,23:00:00,REGULAR,0005470411,0001846906                                             \n",
      "\n",
      "A002,R051,02-00-00,59 ST,NQR456,BMT,12/27/2015,07:00:00,REGULAR,0005470479,0001846936                                             \n",
      "\n"
     ]
    }
   ],
   "source": [
    "#print first 5 lines from url data\n",
    "data = urllib2.urlopen(files_array[0])\n",
    "for i in range(5):\n",
    "    my_line = data.readline()\n",
    "    print my_line\n",
    "    data.next()\n"
   ]
  },
  {
   "cell_type": "code",
   "execution_count": null,
   "metadata": {
    "collapsed": true
   },
   "outputs": [],
   "source": []
  }
 ],
 "metadata": {
  "kernelspec": {
   "display_name": "Python [python2]",
   "language": "python",
   "name": "Python [python2]"
  }
 },
 "nbformat": 4,
 "nbformat_minor": 0
}

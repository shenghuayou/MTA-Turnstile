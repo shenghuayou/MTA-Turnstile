{
 "cells": [
  {
   "cell_type": "markdown",
   "metadata": {},
   "source": [
    "# Clean data and prepare data for project #\n"
   ]
  },
  {
   "cell_type": "code",
   "execution_count": 1,
   "metadata": {
    "collapsed": false
   },
   "outputs": [],
   "source": [
    "import datetime\n",
    "import urllib2"
   ]
  },
  {
   "cell_type": "code",
   "execution_count": 5,
   "metadata": {
    "collapsed": false
   },
   "outputs": [
    {
     "name": "stdout",
     "output_type": "stream",
     "text": [
      "['http://web.mta.info/developers/data/nyct/turnstile/turnstile_110101.txt', 'http://web.mta.info/developers/data/nyct/turnstile/turnstile_110108.txt', 'http://web.mta.info/developers/data/nyct/turnstile/turnstile_110115.txt', 'http://web.mta.info/developers/data/nyct/turnstile/turnstile_110122.txt', 'http://web.mta.info/developers/data/nyct/turnstile/turnstile_110129.txt']\n",
      "['http://web.mta.info/developers/data/nyct/turnstile/turnstile_110305.txt', 'http://web.mta.info/developers/data/nyct/turnstile/turnstile_110312.txt', 'http://web.mta.info/developers/data/nyct/turnstile/turnstile_110319.txt', 'http://web.mta.info/developers/data/nyct/turnstile/turnstile_110326.txt', 'http://web.mta.info/developers/data/nyct/turnstile/turnstile_110402.txt']\n",
      "['http://web.mta.info/developers/data/nyct/turnstile/turnstile_110604.txt', 'http://web.mta.info/developers/data/nyct/turnstile/turnstile_110611.txt', 'http://web.mta.info/developers/data/nyct/turnstile/turnstile_110618.txt', 'http://web.mta.info/developers/data/nyct/turnstile/turnstile_110625.txt', 'http://web.mta.info/developers/data/nyct/turnstile/turnstile_110702.txt']\n",
      "['http://web.mta.info/developers/data/nyct/turnstile/turnstile_110903.txt', 'http://web.mta.info/developers/data/nyct/turnstile/turnstile_110910.txt', 'http://web.mta.info/developers/data/nyct/turnstile/turnstile_110917.txt', 'http://web.mta.info/developers/data/nyct/turnstile/turnstile_110924.txt', 'http://web.mta.info/developers/data/nyct/turnstile/turnstile_111001.txt']\n",
      "['http://web.mta.info/developers/data/nyct/turnstile/turnstile_110101.txt', 'http://web.mta.info/developers/data/nyct/turnstile/turnstile_110108.txt', 'http://web.mta.info/developers/data/nyct/turnstile/turnstile_110115.txt', 'http://web.mta.info/developers/data/nyct/turnstile/turnstile_110122.txt', 'http://web.mta.info/developers/data/nyct/turnstile/turnstile_110129.txt']\n"
     ]
    }
   ],
   "source": [
    "#get files address for 2016 from MTA\n",
    "\n",
    "files_array = [] # total files\n",
    "spring_files = [] \n",
    "summer_files = []\n",
    "fall_files = []\n",
    "winter_files = []\n",
    "\n",
    "# get files address and sort by season\n",
    "def sort_by_season(t,addr):\n",
    "    month = str(t.strftime(\"%m\"))\n",
    "    if month[0] == '0':\n",
    "        month = month[1]\n",
    "        \n",
    "    if month == '3' or month == '4' or month == '5':\n",
    "        spring_files.append(addr)\n",
    "    elif month == '6' or month == '7' or month == '8':\n",
    "        summer_files.append(addr)\n",
    "    elif month == '9' or month == '10' or month == '11':\n",
    "        fall_files.append(addr)\n",
    "    else:\n",
    "        winter_files.append(addr)\n",
    "\n",
    "# edit start_date and end date to get range of file address\n",
    "start_date = datetime.date(2011,1,1)\n",
    "end_date = datetime.date(2011,12,31)\n",
    "url = \"http://web.mta.info/developers/data/nyct/turnstile/turnstile_\"\n",
    "while (start_date <= end_date):\n",
    "    address = url + str(start_date.strftime(\"%y%m%d\"))+\".txt\"\n",
    "    files_array.append(address)\n",
    "    sort_by_season(start_date,address) \n",
    "    start_date += datetime.timedelta(days=7)\n",
    "    \n",
    "print files_array[:5]\n",
    "print spring_files[:5]\n",
    "print summer_files[:5]\n",
    "print fall_files[:5]\n",
    "print winter_files[:5]\n"
   ]
  },
  {
   "cell_type": "code",
   "execution_count": 7,
   "metadata": {
    "collapsed": false
   },
   "outputs": [
    {
     "name": "stdout",
     "output_type": "stream",
     "text": [
      "['A002,R051,02-00-00,12-25-10,03:00:00,REGULAR,002987895,001031727,12-25-10,07:00:00,REGULAR,002987896,001031732,12-25-10,09:01:47,DOOR,002987900,001031744,12-25-10,09:03:29,OPEN,002987900,001031744,12-25-10,09:05:29,DOOR,002987900,001031744,12-25-10,09:17:09,OPEN,002987905,001031750,12-25-10,11:00:00,DOOR,002987913,001031766,12-25-10,15:00:00,OPEN,002987975,001031788                                \\r\\n', 'A002,R051,02-00-00,12-25-10,19:00:00,REGULAR,002988054,001031812,12-25-10,23:00:00,REGULAR,002988082,001031818,12-26-10,03:00:00,REGULAR,002988093,001031821,12-26-10,07:00:00,REGULAR,002988099,001031825,12-26-10,11:00:00,REGULAR,002988138,001031866,12-26-10,15:00:00,REGULAR,002988291,001031907,12-26-10,19:00:00,REGULAR,002988532,001031953,12-26-10,23:00:00,REGULAR,002988642,001031970              \\r\\n', 'A002,R051,02-00-00,12-27-10,03:00:00,REGULAR,002988662,001031984,12-27-10,07:00:00,REGULAR,002988677,001031989,12-27-10,11:00:00,REGULAR,002988732,001032034,12-27-10,15:00:00,REGULAR,002988844,001032076,12-27-10,19:00:00,REGULAR,002989138,001032106,12-27-10,23:00:00,REGULAR,002989249,001032127,12-28-10,03:00:00,REGULAR,002989260,001032132,12-28-10,07:00:00,REGULAR,002989276,001032148              \\r\\n', 'A002,R051,02-00-00,12-28-10,11:00:00,REGULAR,002989366,001032347,12-28-10,15:00:00,REGULAR,002989573,001032412,12-28-10,19:00:00,REGULAR,002990205,001032495,12-28-10,23:00:00,REGULAR,002990424,001032523,12-29-10,03:00:00,REGULAR,002990451,001032530,12-29-10,07:00:00,REGULAR,002990462,001032549,12-29-10,11:00:00,REGULAR,002990568,001032755,12-29-10,15:00:00,REGULAR,002990784,001032817              \\r\\n', 'A002,R051,02-00-00,12-29-10,19:00:00,REGULAR,002991454,001032883,12-29-10,23:00:00,REGULAR,002991770,001032916,12-30-10,03:00:00,REGULAR,002991806,001032920,12-30-10,07:00:00,REGULAR,002991815,001032938,12-30-10,11:00:00,REGULAR,002991894,001033153,12-30-10,15:00:00,REGULAR,002992182,001033224,12-30-10,19:00:00,REGULAR,002992941,001033311,12-30-10,23:00:00,REGULAR,002993200,001033332              \\r\\n', 'A002,R051,02-00-00,12-31-10,03:00:00,REGULAR,002993258,001033338,12-31-10,07:00:00,REGULAR,002993276,001033352,12-31-10,11:00:00,REGULAR,002993346,001033501,12-31-10,15:00:00,REGULAR,002993609,001033567,12-31-10,19:00:00,REGULAR,002994127,001033610,12-31-10,23:00:00,REGULAR,002994278,001033632                                                                                                          \\r\\n', 'A002,R051,02-00-01,12-25-10,03:00:00,REGULAR,002953912,000626415,12-25-10,07:00:00,REGULAR,002953914,000626417,12-25-10,09:17:41,DOOR,002953920,000626423,12-25-10,09:17:52,OPEN,002953920,000626423,12-25-10,09:27:41,DOOR,002953920,000626423,12-25-10,09:27:49,OPEN,002953920,000626423,12-25-10,11:00:00,DOOR,002953933,000626438,12-25-10,15:00:00,OPEN,002953976,000626453                                \\r\\n', 'A002,R051,02-00-01,12-25-10,19:00:00,REGULAR,002954059,000626475,12-25-10,23:00:00,REGULAR,002954110,000626479,12-26-10,03:00:00,REGULAR,002954125,000626480,12-26-10,07:00:00,REGULAR,002954128,000626484,12-26-10,11:00:00,REGULAR,002954166,000626508,12-26-10,15:00:00,REGULAR,002954301,000626544,12-26-10,19:00:00,REGULAR,002954513,000626592,12-26-10,23:00:00,REGULAR,002954606,000626607              \\r\\n', 'A002,R051,02-00-01,12-27-10,03:00:00,REGULAR,002954619,000626610,12-27-10,07:00:00,REGULAR,002954621,000626611,12-27-10,11:00:00,REGULAR,002954680,000626643,12-27-10,15:00:00,REGULAR,002954803,000626672,12-27-10,19:00:00,REGULAR,002955074,000626716,12-27-10,23:00:00,REGULAR,002955190,000626732,12-28-10,03:00:00,REGULAR,002955205,000626733,12-28-10,07:00:00,REGULAR,002955208,000626743              \\r\\n', 'A002,R051,02-00-01,12-28-10,11:00:00,REGULAR,002955300,000626821,12-28-10,15:00:00,REGULAR,002955467,000626870,12-28-10,19:00:00,REGULAR,002956012,000626930,12-28-10,23:00:00,REGULAR,002956215,000626955,12-29-10,03:00:00,REGULAR,002956253,000626961,12-29-10,07:00:00,REGULAR,002956262,000626970,12-29-10,11:00:00,REGULAR,002956367,000627076,12-29-10,15:00:00,REGULAR,002956598,000627116              \\r\\n']\n"
     ]
    }
   ],
   "source": [
    "#use these functions to get data that after 10/18/2014 - new data\n",
    "\n",
    "my_array = []\n",
    "\n",
    "# convert json to array\n",
    "def convert_to_array(data,arr):\n",
    "    my_line = data\n",
    "    my_line = my_line.split(',')\n",
    "    my_line_10 = my_line[10][:9]\n",
    "    my_line.remove(my_line[10])\n",
    "    my_line.append(my_line_10)\n",
    "    my_line = tuple(my_line)\n",
    "    arr.append(my_line)\n",
    "    \n",
    "# get data from url\n",
    "def get_data_from_url(input_file,arr):\n",
    "    data = urllib2.urlopen(input_file)\n",
    "    iter_data = iter(data)\n",
    "    next(iter_data)\n",
    "    for i in data:\n",
    "        convert_to_array(i,arr)\n",
    "        \n",
    "        \n",
    "#use for loop to get all the data\n",
    "get_data_from_url(files_array[0],my_array)\n",
    "\n",
    "print(my_array[:10])\n"
   ]
  },
  {
   "cell_type": "code",
   "execution_count": 70,
   "metadata": {
    "collapsed": false
   },
   "outputs": [
    {
     "name": "stdout",
     "output_type": "stream",
     "text": [
      "[['A002', 'R051', '02-00-00', '12-25-10', '03:00:00', 'REGULAR', '002987895', '001031727'], ['A002', 'R051', '02-00-00', '12-25-10', '07:00:00', 'REGULAR', '002987896', '001031732'], ['A002', 'R051', '02-00-00', '12-25-10', '09:01:47', 'DOOR', '002987900', '001031744'], ['A002', 'R051', '02-00-00', '12-25-10', '09:03:29', 'OPEN', '002987900', '001031744'], ['A002', 'R051', '02-00-00', '12-25-10', '09:05:29', 'DOOR', '002987900', '001031744'], ['A002', 'R051', '02-00-00', '12-25-10', '09:17:09', 'OPEN', '002987905', '001031750'], ['A002', 'R051', '02-00-00', '12-25-10', '11:00:00', 'DOOR', '002987913', '001031766'], ['A002', 'R051', '02-00-00', '12-25-10', '15:00:00', 'OPEN', '002987975', '001031788'], ['A002', 'R051', '02-00-00', '12-25-10', '19:00:00', 'REGULAR', '002988054', '001031812'], ['A002', 'R051', '02-00-00', '12-25-10', '23:00:00', 'REGULAR', '002988082', '001031818']]\n"
     ]
    }
   ],
   "source": [
    "#use these functions to get data that before 10/18/2014 - old data\n",
    "\n",
    "my_array_old = []\n",
    "\n",
    "def convert_to_array_old(data,arr):\n",
    "    ca = data.split(',')[0]\n",
    "    booth = data.split(',')[1]\n",
    "    ignore = data.split(',')[2]\n",
    "    i=iter(data.split(',')[3:])\n",
    "    remaining = map(\",\".join,zip(*[i]*5))\n",
    "    for parts in remaining:\n",
    "        buildString = []\n",
    "        parts = parts.split(',')\n",
    "        buildString.append(ca)\n",
    "        buildString.append(booth)\n",
    "        buildString.append(ignore)\n",
    "        for i in parts:\n",
    "            if '\\n' in i:\n",
    "                buildString.append(i[:9])\n",
    "            else:\n",
    "                buildString.append(i)\n",
    "                \n",
    "        arr.append(buildString)\n",
    "    \n",
    "def get_data_from_url_old(input_file,arr):\n",
    "    data = urllib2.urlopen(input_file)\n",
    "    iter_data = iter(data)\n",
    "    for i in data:\n",
    "        convert_to_array_old(i,arr)\n",
    "\n",
    "get_data_from_url_old(files_array[0],my_array_old)\n",
    "\n",
    "print(my_array_old[:10])"
   ]
  },
  {
   "cell_type": "code",
   "execution_count": 30,
   "metadata": {
    "collapsed": false
   },
   "outputs": [
    {
     "data": {
      "text/plain": [
       "10267810"
      ]
     },
     "execution_count": 30,
     "metadata": {},
     "output_type": "execute_result"
    }
   ],
   "source": [
    "# store a year data in an array, this work for data after 10/18/2014 - new data\n",
    "array_2016 = []\n",
    "def get_a_year_data(m_file,m_arr):\n",
    "    for i in xrange(0,len(m_file)):\n",
    "        get_data_input_url(m_file[i],m_arr)\n",
    "\n",
    "get_a_year_data(files_array,array_2016)\n",
    "\n",
    "len(array_2016)\n",
    "        "
   ]
  },
  {
   "cell_type": "code",
   "execution_count": null,
   "metadata": {
    "collapsed": true
   },
   "outputs": [],
   "source": [
    "# store a year data in an array, this work for data before 10/18/2014 - old data\n",
    "array_2011 = []\n",
    "def get_a_year_data_old(m_file,m_arr):\n",
    "    for i in xrange(0,len(m_file)):\n",
    "        get_data_input_url_old(m_file[i],m_arr)\n",
    "\n",
    "get_a_year_data_old(files_array,array_2011)\n",
    "\n",
    "len(array_2011)"
   ]
  },
  {
   "cell_type": "code",
   "execution_count": 71,
   "metadata": {
    "collapsed": true
   },
   "outputs": [],
   "source": [
    "# export array to csv\n",
    "import csv\n",
    "with open(\"output.csv\", \"wb\") as f:\n",
    "    writer = csv.writer(f)\n",
    "    writer.writerows(my_array_old)"
   ]
  },
  {
   "cell_type": "code",
   "execution_count": 24,
   "metadata": {
    "collapsed": false
   },
   "outputs": [],
   "source": [
    "def mapper1(row):\n",
    "    return (row[3])\n",
    "\n",
    "def reducer1(counts, pair):\n",
    "    counts[pair] = counts.get(pair, 0)+1\n",
    "    return counts\n",
    "\n",
    "#get popular station, this function will take time to run.\n",
    "def get_popular_station(m_file,m_arr):\n",
    "    for i in xrange(0,len(m_file)):\n",
    "        get_data_input_url(m_file[i],m_arr)\n",
    "    \n",
    "    output1 = reduce(reducer1, map(mapper1, m_arr), {}).items()\n",
    "    output1.sort(key=lambda x: x[1], reverse=True)\n",
    "\n",
    "    print output1[:10]\n",
    "    "
   ]
  },
  {
   "cell_type": "code",
   "execution_count": null,
   "metadata": {
    "collapsed": true
   },
   "outputs": [],
   "source": []
  }
 ],
 "metadata": {
  "anaconda-cloud": {},
  "kernelspec": {
   "display_name": "Python [python2]",
   "language": "python",
   "name": "Python [python2]"
  },
  "language_info": {
   "codemirror_mode": {
    "name": "ipython",
    "version": 2
   },
   "file_extension": ".py",
   "mimetype": "text/x-python",
   "name": "python",
   "nbconvert_exporter": "python",
   "pygments_lexer": "ipython2",
   "version": "2.7.13"
  }
 },
 "nbformat": 4,
 "nbformat_minor": 0
}

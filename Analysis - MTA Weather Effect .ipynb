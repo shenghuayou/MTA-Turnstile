{
 "cells": [
  {
   "cell_type": "markdown",
   "metadata": {},
   "source": [
    "# How does weather affect the amount of people using the station? #"
   ]
  },
  {
   "cell_type": "code",
   "execution_count": 3,
   "metadata": {
    "collapsed": true
   },
   "outputs": [],
   "source": [
    "import csv\n",
    "import itertools\n",
    "import matplotlib.pyplot as plt\n",
    "import numpy as np\n",
    "%matplotlib inline"
   ]
  },
  {
   "cell_type": "code",
   "execution_count": 72,
   "metadata": {
    "collapsed": false
   },
   "outputs": [
    {
     "data": {
      "text/plain": [
       "[('Fog , Rain , 01/02/2011', 2363065.0),\n",
       " ('Fog , Rain , Snow , 01/26/2011', 5040664.0),\n",
       " ('Fog , Snow , 01/07/2011', 5083468.0),\n",
       " ('Fog , Snow , 01/11/2011', 5315070.0),\n",
       " ('Fog , Snow , 01/12/2011', 4226676.0),\n",
       " ('Fog , Snow , 01/21/2011', 5207506.0),\n",
       " ('Fog , Snow , 01/25/2011', 5182573.0),\n",
       " ('Fog , Snow , 01/27/2011', 1728183.0),\n",
       " ('Normal , 01/01/2011', 2373353.0),\n",
       " ('Normal , 01/03/2011', 5101137.0)]"
      ]
     },
     "execution_count": 72,
     "metadata": {},
     "output_type": "execute_result"
    }
   ],
   "source": [
    "# this will group by Date and Event. then add all Entry for the day. then get rid of data before 2011\n",
    "def mapper1(row):\n",
    "    return (row['Event'],row['Date'],row['Entry'])\n",
    "\n",
    "def reducer1(counts, pair):\n",
    "    if pair[1].split('/')[2] > '2010':\n",
    "        counts[pair[0]+' , '+pair[1]] = counts.get(pair[0]+' , '+pair[1], 0)+float(pair[2])\n",
    "    return counts\n",
    "\n",
    "with open('dataset/clean-mta-data.csv') as csvfile:\n",
    "    #right now just use 1000000 data, will run all in cluster\n",
    "    reader = itertools.islice(csv.DictReader(csvfile), 1000000)\n",
    "    output1 = sorted(reduce(reducer1, map(mapper1, reader), {}).items())\n",
    "    \n",
    "output1[:10] "
   ]
  },
  {
   "cell_type": "code",
   "execution_count": null,
   "metadata": {
    "collapsed": false
   },
   "outputs": [],
   "source": [
    "import pandas as pd\n",
    "\n",
    "mta = pd.read_csv(\"dataset/clean-mta-data/clean-mta-data.csv\", sep=',', nrows = 1000000)\n",
    "mta.to_csv('test-mta-data', index=False, encoding='utf-8')\n",
    "    "
   ]
  },
  {
   "cell_type": "code",
   "execution_count": 141,
   "metadata": {
    "collapsed": false
   },
   "outputs": [
    {
     "data": {
      "text/plain": [
       "[('Fog , Rain', 2363065.0),\n",
       " ('Fog , Rain , Snow', 5040664.0),\n",
       " ('Fog , Snow', 26743476.0),\n",
       " ('Normal', 65362475.0),\n",
       " ('Rain', 5424773.0),\n",
       " ('Rain , Snow', 5090273.0),\n",
       " ('Snow', 2785091.0)]"
      ]
     },
     "execution_count": 141,
     "metadata": {},
     "output_type": "execute_result"
    }
   ],
   "source": [
    "#sum up all the entry by weather\n",
    "def mapper2(row):\n",
    "    return row\n",
    "\n",
    "def reducer2(counts, pair):\n",
    "    weather = pair[0].split(' , ')\n",
    "    del weather[-1]\n",
    "    my_weather = ''\n",
    "    for i in weather:\n",
    "        my_weather = my_weather + i + ' , '    \n",
    "    my_weather = my_weather[:-3]\n",
    "    counts[my_weather] = counts.get(my_weather,0)+pair[1]\n",
    "    return counts\n",
    "\n",
    "output2 = sorted(reduce(reducer2, map(mapper2, output1), {}).items())\n",
    "\n",
    "output2 "
   ]
  },
  {
   "cell_type": "code",
   "execution_count": 142,
   "metadata": {
    "collapsed": false
   },
   "outputs": [
    {
     "data": {
      "text/plain": [
       "[('Fog , Rain', 1),\n",
       " ('Fog , Rain , Snow', 1),\n",
       " ('Fog , Snow', 6),\n",
       " ('Normal', 16),\n",
       " ('Rain', 1),\n",
       " ('Rain , Snow', 1),\n",
       " ('Snow', 1)]"
      ]
     },
     "execution_count": 142,
     "metadata": {},
     "output_type": "execute_result"
    }
   ],
   "source": [
    "# count how many days that have certain weather\n",
    "def mapper3(row):\n",
    "    return row\n",
    "\n",
    "def reducer3(counts, pair):\n",
    "    weather = pair[0].split(' , ')\n",
    "    del weather[-1]\n",
    "    my_weather = ''\n",
    "    for i in weather:\n",
    "        my_weather = my_weather + i + ' , '    \n",
    "    my_weather = my_weather[:-3]\n",
    "    counts[my_weather] = counts.get(my_weather,0)+1\n",
    "    return counts\n",
    "\n",
    "output3 = sorted(reduce(reducer3, map(mapper3, output1), {}).items())\n",
    "\n",
    "output3 \n",
    "\n"
   ]
  },
  {
   "cell_type": "code",
   "execution_count": 159,
   "metadata": {
    "collapsed": false
   },
   "outputs": [
    {
     "data": {
      "text/plain": [
       "[('Fog , Rain', 2363065.0),\n",
       " ('Fog , Rain , Snow', 5040664.0),\n",
       " ('Fog , Snow', 4457246.0),\n",
       " ('Normal', 4085154.6875),\n",
       " ('Rain', 5424773.0),\n",
       " ('Rain , Snow', 5090273.0),\n",
       " ('Snow', 2785091.0)]"
      ]
     },
     "execution_count": 159,
     "metadata": {},
     "output_type": "execute_result"
    }
   ],
   "source": [
    "#this will get average Entry in day for weather\n",
    "output4 = []\n",
    "\n",
    "for i in range(len(output2)):\n",
    "    output4.append((output2[i][0],output2[i][1]/output3[i][1]))\n",
    "\n",
    "output4"
   ]
  },
  {
   "cell_type": "code",
   "execution_count": 188,
   "metadata": {
    "collapsed": false
   },
   "outputs": [
    {
     "data": {
      "text/plain": [
       "<Container object of 7 artists>"
      ]
     },
     "execution_count": 188,
     "metadata": {},
     "output_type": "execute_result"
    },
    {
     "data": {
      "image/png": "[encoded data removed]",
      "text/plain": [
       "<matplotlib.figure.Figure at 0x1072dcc50>"
      ]
     },
     "metadata": {},
     "output_type": "display_data"
    }
   ],
   "source": [
    "weather_name = []\n",
    "weather_entry = []\n",
    "for i in output4:\n",
    "    weather_name.append(i[0])\n",
    "    weather_entry.append(i[1])\n",
    "weather_name = np.array(weather_name)\n",
    "weather_entry = np.array(weather_entry)\n",
    "plt.title(\"Weather and Average Entry\")\n",
    "plt.xticks(range(len(weather_entry)), weather_name, rotation='vertical')\n",
    "plt.bar(range(0,len(weather_entry)),weather_entry)"
   ]
  },
  {
   "cell_type": "code",
   "execution_count": null,
   "metadata": {
    "collapsed": true
   },
   "outputs": [],
   "source": []
  }
 ],
 "metadata": {
  "anaconda-cloud": {},
  "kernelspec": {
   "display_name": "Python [python2]",
   "language": "python",
   "name": "Python [python2]"
  },
  "language_info": {
   "codemirror_mode": {
    "name": "ipython",
    "version": 2
   },
   "file_extension": ".py",
   "mimetype": "text/x-python",
   "name": "python",
   "nbconvert_exporter": "python",
   "pygments_lexer": "ipython2",
   "version": "2.7.13"
  }
 },
 "nbformat": 4,
 "nbformat_minor": 0
}

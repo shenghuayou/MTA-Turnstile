{
 "cells": [
  {
   "cell_type": "code",
   "execution_count": null,
   "metadata": {
    "collapsed": false
   },
   "outputs": [],
   "source": [
    "import pandas as pd\n",
    "import datetime\n",
    "\n",
    "data2014_1 = pd.read_csv(\"dataset/mta-data/MTA_Turnstile_2014_1.csv\", sep=',', header=None, usecols=[1,3,4,6,7])\n",
    "data2014_1.columns = [\"Remote\", \"Date\", \"Hour\", \"Entry\", \"Exit\"]\n",
    "data2014_1['Date'] = data2014_1['Date'].apply(lambda x: datetime.datetime.strptime(x,'%m-%d-%y').strftime('%m/%d/%Y'))\n",
    "data2014_2 = pd.read_csv(\"dataset/mta-data/MTA_Turnstile_2014_2.csv\", sep=',', header=None, usecols=[1,6,7,9,10])\n",
    "data2014_2.columns = [\"Remote\", \"Date\", \"Hour\", \"Entry\", \"Exit\"]\n",
    "data = pd.concat([data2014_1,data2014_2])\n",
    "#data.columns = [\"Remote\", \"Date\", \"Hour\", \"Entry\", \"Exit\"]\n",
    "print data.shape, data2014_1.shape, data2014_2.shape\n",
    "data.head()"
   ]
  },
  {
   "cell_type": "code",
   "execution_count": 2,
   "metadata": {
    "collapsed": false
   },
   "outputs": [],
   "source": [
    "remote_data = pd.read_csv(\"dataset/Remote-Booth-Station.csv\", sep=',', usecols=[0,2])\n",
    "remote_data = remote_data.drop_duplicates()\n",
    "remote_data = remote_data.drop_duplicates(['Remote'], keep='first')"
   ]
  },
  {
   "cell_type": "code",
   "execution_count": 3,
   "metadata": {
    "collapsed": false
   },
   "outputs": [],
   "source": [
    "merged = data.merge(remote_data,how='inner',on='Remote')"
   ]
  },
  {
   "cell_type": "code",
   "execution_count": 4,
   "metadata": {
    "collapsed": false
   },
   "outputs": [],
   "source": [
    "weather_data = pd.read_csv(\"dataset/clean-weather-data/weather.csv\", sep=',', header=None)\n",
    "weather_data.columns = ['Date','Event']\n",
    "weather_data = weather_data.fillna('Normal')"
   ]
  },
  {
   "cell_type": "code",
   "execution_count": 28,
   "metadata": {
    "collapsed": false
   },
   "outputs": [
    {
     "data": {
      "text/plain": [
       "(   Remote        Date      Hour       Station Event  Entry  Exit\n",
       " 0    R001  10/11/2014  01:00:00  WHITEHALL ST  Rain    0.0   0.0\n",
       " 1    R001  10/11/2014  05:00:00  WHITEHALL ST  Rain   20.0   6.0\n",
       " 2    R001  10/11/2014  09:00:00  WHITEHALL ST  Rain  130.0  11.0\n",
       " 3    R001  10/11/2014  13:00:00  WHITEHALL ST  Rain  245.0  26.0\n",
       " 4    R001  10/11/2014  17:00:00  WHITEHALL ST  Rain  316.0  39.0\n",
       " 5    R001  10/11/2014  21:00:00  WHITEHALL ST  Rain  281.0  40.0\n",
       " 6    R001  10/11/2014  01:00:00  WHITEHALL ST  Rain    0.0   0.0\n",
       " 7    R001  10/11/2014  05:00:00  WHITEHALL ST  Rain    9.0   2.0\n",
       " 8    R001  10/11/2014  09:00:00  WHITEHALL ST  Rain  109.0   4.0\n",
       " 9    R001  10/11/2014  13:00:00  WHITEHALL ST  Rain  179.0  13.0\n",
       " 10   R001  10/11/2014  17:00:00  WHITEHALL ST  Rain  298.0  21.0\n",
       " 11   R001  10/11/2014  21:00:00  WHITEHALL ST  Rain  284.0  23.0\n",
       " 12   R001  10/11/2014  01:00:00  WHITEHALL ST  Rain    0.0   0.0\n",
       " 13   R001  10/11/2014  05:00:00  WHITEHALL ST  Rain    9.0   0.0\n",
       " 14   R001  10/11/2014  09:00:00  WHITEHALL ST  Rain   64.0   2.0\n",
       " 15   R001  10/11/2014  13:00:00  WHITEHALL ST  Rain  128.0  10.0\n",
       " 16   R001  10/11/2014  17:00:00  WHITEHALL ST  Rain  243.0  12.0\n",
       " 17   R001  10/11/2014  21:00:00  WHITEHALL ST  Rain   80.0  12.0\n",
       " 18   R001  10/11/2014  01:00:00  WHITEHALL ST  Rain    0.0   0.0\n",
       " 19   R001  10/11/2014  05:00:00  WHITEHALL ST  Rain    3.0   0.0\n",
       " 20   R001  10/11/2014  09:00:00  WHITEHALL ST  Rain   41.0   1.0\n",
       " 21   R001  10/11/2014  13:00:00  WHITEHALL ST  Rain   80.0   4.0\n",
       " 22   R001  10/11/2014  17:00:00  WHITEHALL ST  Rain  132.0   4.0\n",
       " 23   R001  10/11/2014  21:00:00  WHITEHALL ST  Rain  209.0   5.0\n",
       " 24   R001  10/11/2014  01:00:00  WHITEHALL ST  Rain    0.0   0.0\n",
       " 25   R001  10/11/2014  05:00:00  WHITEHALL ST  Rain    0.0   1.0\n",
       " 26   R001  10/11/2014  09:00:00  WHITEHALL ST  Rain   21.0   0.0\n",
       " 27   R001  10/11/2014  13:00:00  WHITEHALL ST  Rain   54.0   1.0\n",
       " 28   R001  10/11/2014  17:00:00  WHITEHALL ST  Rain   95.0   1.0\n",
       " 29   R001  10/11/2014  21:00:00  WHITEHALL ST  Rain   83.0   0.0\n",
       " 30   R001  10/11/2014  01:00:00  WHITEHALL ST  Rain    0.0   0.0\n",
       " 31   R001  10/11/2014  05:00:00  WHITEHALL ST  Rain    2.0   0.0\n",
       " 32   R001  10/11/2014  09:00:00  WHITEHALL ST  Rain   19.0   1.0\n",
       " 33   R001  10/11/2014  13:00:00  WHITEHALL ST  Rain   54.0   2.0\n",
       " 34   R001  10/11/2014  17:00:00  WHITEHALL ST  Rain  103.0   1.0\n",
       " 35   R001  10/11/2014  21:00:00  WHITEHALL ST  Rain  111.0   1.0\n",
       " 36   R001  10/11/2014  01:00:00  WHITEHALL ST  Rain    0.0   0.0\n",
       " 37   R001  10/11/2014  05:00:00  WHITEHALL ST  Rain    4.0   0.0\n",
       " 38   R001  10/11/2014  09:00:00  WHITEHALL ST  Rain   10.0   0.0\n",
       " 39   R001  10/11/2014  13:00:00  WHITEHALL ST  Rain   53.0   1.0\n",
       " 40   R001  10/11/2014  17:00:00  WHITEHALL ST  Rain  127.0   1.0\n",
       " 41   R001  10/11/2014  21:00:00  WHITEHALL ST  Rain  106.0   0.0\n",
       " 42   R001  10/11/2014  01:00:00  WHITEHALL ST  Rain    0.0   0.0\n",
       " 43   R001  10/11/2014  05:00:00  WHITEHALL ST  Rain    5.0   0.0\n",
       " 44   R001  10/11/2014  09:00:00  WHITEHALL ST  Rain   13.0   0.0\n",
       " 45   R001  10/11/2014  13:00:00  WHITEHALL ST  Rain   51.0   1.0\n",
       " 46   R001  10/11/2014  17:00:00  WHITEHALL ST  Rain  114.0   1.0\n",
       " 47   R001  10/11/2014  21:00:00  WHITEHALL ST  Rain  114.0   0.0\n",
       " 48   R001  10/11/2014  01:00:00  WHITEHALL ST  Rain    0.0   0.0\n",
       " 49   R001  10/11/2014  05:00:00  WHITEHALL ST  Rain    4.0   0.0,\n",
       " (1868519, 7))"
      ]
     },
     "execution_count": 28,
     "metadata": {},
     "output_type": "execute_result"
    }
   ],
   "source": [
    "remerged = merged.merge(weather_data,how='inner',on='Date')\n",
    "remerged = remerged.set_index(['Remote','Date','Hour','Station','Event']) \\\n",
    "                    .diff() \\\n",
    "                    .fillna(float(0)) \\\n",
    "                    .reset_index()\n",
    "remerged.loc[(remerged.Entry < 0.0) | (remerged.Entry > 10000.0), ['Entry','Exit']] = float(0)\n",
    "remerged.head(50), remerged.shape"
   ]
  },
  {
   "cell_type": "code",
   "execution_count": null,
   "metadata": {
    "collapsed": true
   },
   "outputs": [],
   "source": []
  }
 ],
 "metadata": {
  "anaconda-cloud": {},
  "kernelspec": {
   "display_name": "Python [conda env:python2]",
   "language": "python",
   "name": "conda-env-python2-py"
  },
  "language_info": {
   "codemirror_mode": {
    "name": "ipython",
    "version": 2
   },
   "file_extension": ".py",
   "mimetype": "text/x-python",
   "name": "python",
   "nbconvert_exporter": "python",
   "pygments_lexer": "ipython2",
   "version": "2.7.13"
  }
 },
 "nbformat": 4,
 "nbformat_minor": 0
}

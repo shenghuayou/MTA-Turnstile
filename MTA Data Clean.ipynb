{
 "cells": [
  {
   "cell_type": "code",
   "execution_count": 3,
   "metadata": {
    "collapsed": false
   },
   "outputs": [
    {
     "name": "stdout",
     "output_type": "stream",
     "text": [
      "{'REGULAR': 'REGULAR', '10/11/2014': '10/11/2014', 'R1': 'R1', '01:00:00': '05:00:00', '00-00-00': '00-00-00', '000114108': '000114114', 'R001': 'R001', 'BMT': 'BMT', 'A060': 'A060', '0000805439': '0000805459', 'WHITEHALL ST': 'WHITEHALL ST'}\n"
     ]
    }
   ],
   "source": [
    "import csv\n",
    "with open('dataset/MTA_Turnstile_2014_2.csv', 'r') as fi:\n",
    "    reader = csv.DictReader(fi)\n",
    "    row1 = next(reader)\n",
    "    print row1"
   ]
  },
  {
   "cell_type": "code",
   "execution_count": 27,
   "metadata": {
    "collapsed": false
   },
   "outputs": [
    {
     "data": {
      "text/plain": [
       "(1868519, 5)"
      ]
     },
     "execution_count": 27,
     "metadata": {},
     "output_type": "execute_result"
    }
   ],
   "source": [
    "import pandas as pd\n",
    "\n",
    "data = pd.read_csv(\"dataset/MTA_Turnstile_2014_2.csv\", sep=',', header=None, usecols=[1,6,7,9,10])\n",
    "data.columns = [\"Remote\", \"Date\", \"Hour\", \"Entry\", \"Exit\"]\n",
    "data.shape\n"
   ]
  },
  {
   "cell_type": "code",
   "execution_count": 59,
   "metadata": {
    "collapsed": false
   },
   "outputs": [
    {
     "name": "stdout",
     "output_type": "stream",
     "text": [
      "(480, 2)\n",
      "  Remote         Station\n",
      "0   R001    WHITEHALL ST\n",
      "3   R002       FULTON ST\n",
      "6   R003   CYPRESS HILLS\n",
      "7   R004    ELDERTS LANE\n",
      "8   R005  FOREST PARKWAY\n"
     ]
    }
   ],
   "source": [
    "remote_data = pd.read_csv(\"dataset/Remote-Booth-Station.csv\", sep=',', usecols=[0,2])\n",
    "remote_data = remote_data.drop_duplicates()\n",
    "remote_data = remote_data.drop_duplicates(['Remote'], keep='first')\n",
    "print remote_data.shape\n",
    "print remote_data.head()"
   ]
  },
  {
   "cell_type": "code",
   "execution_count": 60,
   "metadata": {
    "collapsed": false
   },
   "outputs": [
    {
     "name": "stdout",
     "output_type": "stream",
     "text": [
      "(1868519, 6)\n",
      "        Remote        Date      Hour  Entry  Exit         Station\n",
      "1868509   R552  12/25/2014  07:07:17  31889  2362  JOURNAL SQUARE\n",
      "1868510   R552  12/25/2014  11:19:17  31890  2362  JOURNAL SQUARE\n",
      "1868511   R552  12/25/2014  15:31:17  31898  2363  JOURNAL SQUARE\n",
      "1868512   R552  12/25/2014  19:43:17  31905  2364  JOURNAL SQUARE\n",
      "1868513   R552  12/25/2014  23:55:17  31910  2364  JOURNAL SQUARE\n",
      "1868514   R552  12/26/2014  04:07:17  31910  2364  JOURNAL SQUARE\n",
      "1868515   R552  12/26/2014  08:19:17  31918  2365  JOURNAL SQUARE\n",
      "1868516   R552  12/26/2014  12:31:17  31956  2366  JOURNAL SQUARE\n",
      "1868517   R552  12/26/2014  16:43:17  31972  2367  JOURNAL SQUARE\n",
      "1868518   R552  12/26/2014  20:55:17  31986  2368  JOURNAL SQUARE\n"
     ]
    }
   ],
   "source": [
    "merged = data.merge(remote_data,how='inner',on='Remote')\n",
    "print merged.shape\n",
    "print merged.tail(10)"
   ]
  },
  {
   "cell_type": "code",
   "execution_count": 61,
   "metadata": {
    "collapsed": false
   },
   "outputs": [
    {
     "name": "stdout",
     "output_type": "stream",
     "text": [
      "(2223, 2)\n"
     ]
    }
   ],
   "source": [
    "weather_data = pd.read_csv(\"dataset/clean-weather-data/weather.csv\", sep=',', header=None)\n",
    "weather_data.columns = ['Date','Event']\n",
    "weather_data = weather_data.fillna('Normal')\n",
    "weather_data.head()\n",
    "print weather_data.shape"
   ]
  },
  {
   "cell_type": "code",
   "execution_count": 62,
   "metadata": {
    "collapsed": false
   },
   "outputs": [
    {
     "data": {
      "text/plain": [
       "(1868519, 7)"
      ]
     },
     "execution_count": 62,
     "metadata": {},
     "output_type": "execute_result"
    }
   ],
   "source": [
    "remerged = merged.merge(weather_data,how='inner',on='Date')\n",
    "remerged[500000:510000]\n",
    "remerged.shape"
   ]
  },
  {
   "cell_type": "code",
   "execution_count": null,
   "metadata": {
    "collapsed": true
   },
   "outputs": [],
   "source": []
  },
  {
   "cell_type": "code",
   "execution_count": null,
   "metadata": {
    "collapsed": true
   },
   "outputs": [],
   "source": []
  },
  {
   "cell_type": "code",
   "execution_count": null,
   "metadata": {
    "collapsed": true
   },
   "outputs": [],
   "source": []
  }
 ],
 "metadata": {
  "anaconda-cloud": {},
  "kernelspec": {
   "display_name": "Python [python2]",
   "language": "python",
   "name": "Python [python2]"
  },
  "language_info": {
   "codemirror_mode": {
    "name": "ipython",
    "version": 2
   },
   "file_extension": ".py",
   "mimetype": "text/x-python",
   "name": "python",
   "nbconvert_exporter": "python",
   "pygments_lexer": "ipython2",
   "version": "2.7.13"
  }
 },
 "nbformat": 4,
 "nbformat_minor": 0
}

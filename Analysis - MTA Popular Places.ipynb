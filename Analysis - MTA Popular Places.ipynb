{
 "cells": [
  {
   "cell_type": "markdown",
   "metadata": {
    "collapsed": true
   },
   "source": [
    "# Where are the most popular places to go in NYC and how do the  seasons affect change of popular places? (we want to create travel guide for visitors) #"
   ]
  },
  {
   "cell_type": "code",
   "execution_count": 1,
   "metadata": {
    "collapsed": true
   },
   "outputs": [],
   "source": [
    "import csv\n",
    "import itertools\n",
    "import matplotlib.pyplot as plt\n",
    "import numpy as np\n",
    "%matplotlib inline"
   ]
  },
  {
   "cell_type": "code",
   "execution_count": 10,
   "metadata": {
    "collapsed": false
   },
   "outputs": [
    {
     "data": {
      "text/plain": [
       "[('summer', 0.0)]"
      ]
     },
     "execution_count": 10,
     "metadata": {},
     "output_type": "execute_result"
    }
   ],
   "source": [
    "def mapper1(row):\n",
    "    return (row['Event'],row['Date'],row['Entry'])\n",
    "\n",
    "def reducer1(counts, pair):\n",
    "    if pair[1].split('/')[2] > '2010':\n",
    "        counts[pair[0]+' , '+pair[1]] = counts.get(pair[0]+' , '+pair[1], 0)+float(pair[2])\n",
    "    return counts\n",
    "\n",
    "with open('dataset/clean-mta-data.csv') as csvfile:\n",
    "    #right now just use 1000000 data, will run all in cluster\n",
    "    reader = itertools.islice(csv.DictReader(csvfile), 1000000)\n",
    "    output1 = sorted(reduce(reducer1, map(mapper1, reader), {}).items())\n",
    "    \n",
    "output1[:10] "
   ]
  },
  {
   "cell_type": "code",
   "execution_count": null,
   "metadata": {
    "collapsed": true
   },
   "outputs": [],
   "source": []
  }
 ],
 "metadata": {
  "anaconda-cloud": {},
  "kernelspec": {
   "display_name": "Python [python2]",
   "language": "python",
   "name": "Python [python2]"
  },
  "language_info": {
   "codemirror_mode": {
    "name": "ipython",
    "version": 2
   },
   "file_extension": ".py",
   "mimetype": "text/x-python",
   "name": "python",
   "nbconvert_exporter": "python",
   "pygments_lexer": "ipython2",
   "version": "2.7.13"
  }
 },
 "nbformat": 4,
 "nbformat_minor": 0
}

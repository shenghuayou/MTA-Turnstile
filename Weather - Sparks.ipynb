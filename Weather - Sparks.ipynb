{
 "cells": [
  {
   "cell_type": "code",
   "execution_count": 44,
   "metadata": {
    "collapsed": false
   },
   "outputs": [
    {
     "data": {
      "text/plain": [
       "<pyspark.context.SparkContext at 0x109e4dd90>"
      ]
     },
     "execution_count": 44,
     "metadata": {},
     "output_type": "execute_result"
    }
   ],
   "source": [
    "sc"
   ]
  },
  {
   "cell_type": "code",
   "execution_count": 45,
   "metadata": {
    "collapsed": true
   },
   "outputs": [],
   "source": [
    "mtaData = sc.textFile('dataset/clean-mta/clean-mta-data.csv',use_unicode=False)"
   ]
  },
  {
   "cell_type": "code",
   "execution_count": 46,
   "metadata": {
    "collapsed": false
   },
   "outputs": [
    {
     "data": {
      "text/plain": [
       "[('Normal', ('08/26/2012', 29078)),\n",
       " ('Rain', ('04/21/2012', 31604)),\n",
       " ('Rain', ('12/23/2011', 29109)),\n",
       " ('Rain', ('10/12/2011', 31875)),\n",
       " ('Normal', ('07/28/2011', 31275))]"
      ]
     },
     "execution_count": 46,
     "metadata": {},
     "output_type": "execute_result"
    }
   ],
   "source": [
    "def mapper1(index,data):\n",
    "    # skip header row\n",
    "    if index==0:\n",
    "        data.next()\n",
    "    import csv\n",
    "    reader = csv.reader(data)\n",
    "    for row in reader:\n",
    "        event = row[4]\n",
    "        numPeople = row[5].split('.')[0]\n",
    "        yield (event, int(numPeople))\n",
    "        \n",
    "def mapper2(index,data):\n",
    "    # skip header row\n",
    "    if index==0:\n",
    "        data.next()\n",
    "    import csv\n",
    "    reader = csv.reader(data)\n",
    "    for row in reader:\n",
    "        event = row[4]\n",
    "        yield (event, 1)\n",
    "\n",
    "# sum up all the entry by weather\n",
    "# returns (event, total_people)\n",
    "rdd1 = mtaData.mapPartitionsWithIndex(mapper1) \\\n",
    "                    .reduceByKey(lambda x,y: x+y)\n",
    "rdd1.take(5)\n",
    "\n",
    "# count how many days that have certain weather\n",
    "# d = date; e = event; c = count;\n",
    "# returns (event, (date, count))\n",
    "rdd2 = mtaData.mapPartitionsWithIndex(mapper2) \\\n",
    "                    .reduceByKey(lambda x,y: x+y)\n",
    "#                    .map(lambda ((d, e), c): (e, (d, c)))\n",
    "rdd2.take(5)\n",
    "\n",
    "# get average Entry in day for weather\n",
    "# d = date; e = event; c = count; s = summation\n",
    "# returns (event, average_peple_per_weather)\n",
    "rdd3 = rdd1.join(rdd2) \\\n",
    "           .map(lambda (e, (s, (d, c))): ((e, s/c)))\n",
    "rdd3.take(5)"
   ]
  },
  {
   "cell_type": "code",
   "execution_count": null,
   "metadata": {
    "collapsed": true
   },
   "outputs": [],
   "source": []
  }
 ],
 "metadata": {
  "anaconda-cloud": {},
  "kernelspec": {
   "display_name": "Python [python2]",
   "language": "python",
   "name": "Python [python2]"
  },
  "language_info": {
   "codemirror_mode": {
    "name": "ipython",
    "version": 2
   },
   "file_extension": ".py",
   "mimetype": "text/x-python",
   "name": "python",
   "nbconvert_exporter": "python",
   "pygments_lexer": "ipython2",
   "version": "2.7.13"
  }
 },
 "nbformat": 4,
 "nbformat_minor": 0
}

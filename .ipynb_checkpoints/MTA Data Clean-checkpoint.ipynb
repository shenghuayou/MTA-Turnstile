{
 "cells": [
  {
   "cell_type": "code",
   "execution_count": 1,
   "metadata": {
    "collapsed": true
   },
   "outputs": [],
   "source": [
    "import pandas as pd\n",
    "import datetime"
   ]
  },
  {
   "cell_type": "code",
   "execution_count": 2,
   "metadata": {
    "collapsed": false
   },
   "outputs": [
    {
     "name": "stderr",
     "output_type": "stream",
     "text": [
      "C:\\Users\\Victor\\Anaconda3\\envs\\python2\\lib\\site-packages\\IPython\\core\\interactiveshell.py:2717: DtypeWarning: Columns (6,7) have mixed types. Specify dtype option on import or set low_memory=False.\n",
      "  interactivity=interactivity, compiler=compiler, result=result)\n"
     ]
    }
   ],
   "source": [
    "mta_2011 = pd.read_csv(\"dataset/mta-data/MTA_Turnstile_2011.csv\", sep=',', header=None, usecols=[1,3,4,6,7])\n",
    "mta_2012 = pd.read_csv(\"dataset/mta-data/MTA_Turnstile_2012.csv\", sep=',', header=None, usecols=[1,3,4,6,7])\n",
    "mta_2013 = pd.read_csv(\"dataset/mta-data/MTA_Turnstile_2013.csv\", sep=',', header=None, usecols=[1,3,4,6,7])\n",
    "mta_2014_1 = pd.read_csv(\"dataset/mta-data/MTA_Turnstile_2014_1.csv\", sep=',', header=None, usecols=[1,3,4,6,7])\n",
    "mta_2014_2 = pd.read_csv(\"dataset/mta-data/MTA_Turnstile_2014_2.csv\", sep=',', header=None, usecols=[1,6,7,9,10])\n",
    "mta_2015 = pd.read_csv(\"dataset/mta-data/MTA_Turnstile_2015.csv\", sep=',', header=None, usecols=[1,6,7,9,10])\n",
    "mta_2016 = pd.read_csv(\"dataset/mta-data/MTA_Turnstile_2016.csv\", sep=',', header=None, usecols=[1,6,7,9,10])\n",
    "\n",
    "location_data = pd.read_csv(\"dataset/Remote-Booth-Station.csv\", sep=',', usecols=[0,2])\n",
    "location_data = location_data.drop_duplicates()\n",
    "location_data = location_data.drop_duplicates(['Remote'], keep='first')\n",
    "\n",
    "weather_data = pd.read_csv(\"dataset/clean-weather-data/weather.csv\", sep=',', header=None)\n",
    "weather_data.columns = ['Date','Event']\n",
    "weather_data = weather_data.fillna('Normal')"
   ]
  },
  {
   "cell_type": "code",
   "execution_count": 3,
   "metadata": {
    "collapsed": false
   },
   "outputs": [
    {
     "name": "stdout",
     "output_type": "stream",
     "text": [
      "(11322116, 5)\n",
      "(11015011, 5)\n",
      "(11464410, 5)\n",
      "(8925455, 5)\n",
      "(1868519, 5)\n",
      "(10028878, 5)\n",
      "(10267810, 5)\n"
     ]
    }
   ],
   "source": [
    "print mta_2011.shape\n",
    "print mta_2012.shape\n",
    "print mta_2013.shape\n",
    "print mta_2014_1.shape\n",
    "print mta_2014_2.shape\n",
    "print mta_2015.shape\n",
    "print mta_2016.shape"
   ]
  },
  {
   "cell_type": "code",
   "execution_count": 4,
   "metadata": {
    "collapsed": false
   },
   "outputs": [],
   "source": [
    "def convert_datetime(dt):\n",
    "    for fmt in ('%m-%d-%y', '%Y-%m-%d'):\n",
    "        try:\n",
    "            return datetime.datetime.strptime(dt, fmt).strftime('%m/%d/%Y')\n",
    "        except ValueError:\n",
    "            pass\n",
    "\n",
    "def cleanOld(mta_data, weather_data, location_data):\n",
    "    mta_data.columns = [\"Remote\", \"Date\", \"Hour\", \"Entry\", \"Exit\"]\n",
    "    \n",
    "    # Fixing formats and removing unwanted dates\n",
    "    #mta_data = mta_data.dropna(how='any')\n",
    "    #mta_data['Date'] = mta_data['Date'].astype('str')\n",
    "    #mta_data = mta_data.loc[(mta_data['Date'].str.contains(\"-\") == True)]\n",
    "    mta_data['Entry'] = mta_data['Entry'].astype('str')\n",
    "    mta_data['Exit'] = mta_data['Exit'].astype('str')\n",
    "    mta_data = mta_data.loc[(mta_data['Entry'].str.isnumeric() == True) & (mta_data['Exit'].str.isnumeric() == True)]\n",
    "    \n",
    "    mta_data['Entry'] = mta_data['Entry'].astype('float')\n",
    "    mta_data['Exit'] = mta_data['Exit'].astype('float')\n",
    "    \n",
    "    mta_data['Date'] = mta_data['Date'].apply(lambda x: convert_datetime(x))\n",
    "    mta_data = mta_data.merge(location_data,how='inner',on='Remote')\n",
    "    mta_data = mta_data.merge(weather_data,how='inner',on='Date')\n",
    "    mta_data = mta_data.set_index(['Remote','Date','Hour','Station','Event']) \\\n",
    "                    .diff() \\\n",
    "                    .fillna(float(0)) \\\n",
    "                    .reset_index()\n",
    "    mta_data.loc[(mta_data.Entry < 0.0) | (mta_data.Entry > 10000.0), ['Entry','Exit']] = float(0)\n",
    "    return mta_data\n",
    "    \n",
    "def cleanNew(mta_data, weather_data, location_data):\n",
    "    mta_data.columns = [\"Remote\", \"Date\", \"Hour\", \"Entry\", \"Exit\"]\n",
    "    \n",
    "    mta_data = mta_data.merge(location_data,how='inner',on='Remote')\n",
    "    mta_data = mta_data.merge(weather_data,how='inner',on='Date')\n",
    "    mta_data = mta_data.set_index(['Remote','Date','Hour','Station','Event']) \\\n",
    "                    .diff() \\\n",
    "                    .fillna(float(0)) \\\n",
    "                    .reset_index()\n",
    "    mta_data.loc[(mta_data.Entry < 0.0) | (mta_data.Entry > 10000.0), ['Entry','Exit']] = float(0)\n",
    "    return mta_data"
   ]
  },
  {
   "cell_type": "code",
   "execution_count": 5,
   "metadata": {
    "collapsed": false
   },
   "outputs": [
    {
     "name": "stdout",
     "output_type": "stream",
     "text": [
      "Starting on year 2011...\n"
     ]
    },
    {
     "name": "stderr",
     "output_type": "stream",
     "text": [
      "C:\\Users\\Victor\\Anaconda3\\envs\\python2\\lib\\site-packages\\ipykernel\\__main__.py:19: SettingWithCopyWarning: \n",
      "A value is trying to be set on a copy of a slice from a DataFrame.\n",
      "Try using .loc[row_indexer,col_indexer] = value instead\n",
      "\n",
      "See the caveats in the documentation: http://pandas.pydata.org/pandas-docs/stable/indexing.html#indexing-view-versus-copy\n",
      "C:\\Users\\Victor\\Anaconda3\\envs\\python2\\lib\\site-packages\\ipykernel\\__main__.py:20: SettingWithCopyWarning: \n",
      "A value is trying to be set on a copy of a slice from a DataFrame.\n",
      "Try using .loc[row_indexer,col_indexer] = value instead\n",
      "\n",
      "See the caveats in the documentation: http://pandas.pydata.org/pandas-docs/stable/indexing.html#indexing-view-versus-copy\n",
      "C:\\Users\\Victor\\Anaconda3\\envs\\python2\\lib\\site-packages\\ipykernel\\__main__.py:22: SettingWithCopyWarning: \n",
      "A value is trying to be set on a copy of a slice from a DataFrame.\n",
      "Try using .loc[row_indexer,col_indexer] = value instead\n",
      "\n",
      "See the caveats in the documentation: http://pandas.pydata.org/pandas-docs/stable/indexing.html#indexing-view-versus-copy\n"
     ]
    },
    {
     "name": "stdout",
     "output_type": "stream",
     "text": [
      "Starting on year 2012...\n",
      "Starting on year 2013...\n",
      "Starting on year 2014 (1)...\n",
      "Starting on year 2014 (2)...\n",
      "Starting on year 2015...\n",
      "Starting on year 2016...\n"
     ]
    }
   ],
   "source": [
    "print 'Starting on year 2011...'\n",
    "y2011 = cleanOld(mta_2011, weather_data, location_data)\n",
    "print 'Starting on year 2012...'#http://pandas.pydata.org/pandas-docs/stable/indexing.html#indexing-view-versus-copy\n",
    "y2012 = cleanOld(mta_2012, weather_data, location_data)\n",
    "print 'Starting on year 2013...'\n",
    "y2013 = cleanOld(mta_2013, weather_data, location_data)\n",
    "print 'Starting on year 2014 (1)...'\n",
    "y2014_1 = cleanOld(mta_2014_1, weather_data, location_data)\n",
    "print 'Starting on year 2014 (2)...'\n",
    "y2014_2 = cleanNew(mta_2014_2, weather_data, location_data)\n",
    "print 'Starting on year 2015...'\n",
    "y2015 = cleanNew(mta_2015, weather_data, location_data)\n",
    "print 'Starting on year 2016...'\n",
    "y2016 = cleanNew(mta_2016, weather_data, location_data)"
   ]
  },
  {
   "cell_type": "code",
   "execution_count": 6,
   "metadata": {
    "collapsed": false
   },
   "outputs": [
    {
     "name": "stdout",
     "output_type": "stream",
     "text": [
      "Concatenating all the data...\n",
      "(64795106, 7)\n"
     ]
    }
   ],
   "source": [
    "print 'Concatenating all the data...'\n",
    "completeData = pd.concat([y2011,y2012,y2013,y2014_1,y2014_2,y2015,y2016])\n",
    "print completeData.shape"
   ]
  },
  {
   "cell_type": "code",
   "execution_count": 7,
   "metadata": {
    "collapsed": false
   },
   "outputs": [
    {
     "data": {
      "text/html": [
       "<div>\n",
       "<table border=\"1\" class=\"dataframe\">\n",
       "  <thead>\n",
       "    <tr style=\"text-align: right;\">\n",
       "      <th></th>\n",
       "      <th>Remote</th>\n",
       "      <th>Date</th>\n",
       "      <th>Hour</th>\n",
       "      <th>Station</th>\n",
       "      <th>Event</th>\n",
       "      <th>Entry</th>\n",
       "      <th>Exit</th>\n",
       "    </tr>\n",
       "  </thead>\n",
       "  <tbody>\n",
       "    <tr>\n",
       "      <th>0</th>\n",
       "      <td>R051</td>\n",
       "      <td>12/25/2010</td>\n",
       "      <td>03:00:00</td>\n",
       "      <td>59 ST</td>\n",
       "      <td>Normal</td>\n",
       "      <td>0.0</td>\n",
       "      <td>0.0</td>\n",
       "    </tr>\n",
       "    <tr>\n",
       "      <th>1</th>\n",
       "      <td>R051</td>\n",
       "      <td>12/25/2010</td>\n",
       "      <td>07:00:00</td>\n",
       "      <td>59 ST</td>\n",
       "      <td>Normal</td>\n",
       "      <td>1.0</td>\n",
       "      <td>5.0</td>\n",
       "    </tr>\n",
       "    <tr>\n",
       "      <th>2</th>\n",
       "      <td>R051</td>\n",
       "      <td>12/25/2010</td>\n",
       "      <td>09:01:47</td>\n",
       "      <td>59 ST</td>\n",
       "      <td>Normal</td>\n",
       "      <td>4.0</td>\n",
       "      <td>12.0</td>\n",
       "    </tr>\n",
       "    <tr>\n",
       "      <th>3</th>\n",
       "      <td>R051</td>\n",
       "      <td>12/25/2010</td>\n",
       "      <td>09:03:29</td>\n",
       "      <td>59 ST</td>\n",
       "      <td>Normal</td>\n",
       "      <td>0.0</td>\n",
       "      <td>0.0</td>\n",
       "    </tr>\n",
       "    <tr>\n",
       "      <th>4</th>\n",
       "      <td>R051</td>\n",
       "      <td>12/25/2010</td>\n",
       "      <td>09:05:29</td>\n",
       "      <td>59 ST</td>\n",
       "      <td>Normal</td>\n",
       "      <td>0.0</td>\n",
       "      <td>0.0</td>\n",
       "    </tr>\n",
       "  </tbody>\n",
       "</table>\n",
       "</div>"
      ],
      "text/plain": [
       "  Remote        Date      Hour Station   Event  Entry  Exit\n",
       "0   R051  12/25/2010  03:00:00   59 ST  Normal    0.0   0.0\n",
       "1   R051  12/25/2010  07:00:00   59 ST  Normal    1.0   5.0\n",
       "2   R051  12/25/2010  09:01:47   59 ST  Normal    4.0  12.0\n",
       "3   R051  12/25/2010  09:03:29   59 ST  Normal    0.0   0.0\n",
       "4   R051  12/25/2010  09:05:29   59 ST  Normal    0.0   0.0"
      ]
     },
     "execution_count": 7,
     "metadata": {},
     "output_type": "execute_result"
    }
   ],
   "source": [
    "completeData.head()"
   ]
  },
  {
   "cell_type": "code",
   "execution_count": 9,
   "metadata": {
    "collapsed": false
   },
   "outputs": [
    {
     "data": {
      "text/html": [
       "<div>\n",
       "<table border=\"1\" class=\"dataframe\">\n",
       "  <thead>\n",
       "    <tr style=\"text-align: right;\">\n",
       "      <th></th>\n",
       "      <th>Remote</th>\n",
       "      <th>Date</th>\n",
       "      <th>Hour</th>\n",
       "      <th>Station</th>\n",
       "      <th>Event</th>\n",
       "      <th>Entry</th>\n",
       "      <th>Exit</th>\n",
       "    </tr>\n",
       "  </thead>\n",
       "  <tbody>\n",
       "    <tr>\n",
       "      <th>0</th>\n",
       "      <td>R051</td>\n",
       "      <td>12/25/2010</td>\n",
       "      <td>03:00:00</td>\n",
       "      <td>59 ST</td>\n",
       "      <td>Normal</td>\n",
       "      <td>0.0</td>\n",
       "      <td>0.0</td>\n",
       "    </tr>\n",
       "    <tr>\n",
       "      <th>1</th>\n",
       "      <td>R051</td>\n",
       "      <td>12/25/2010</td>\n",
       "      <td>07:00:00</td>\n",
       "      <td>59 ST</td>\n",
       "      <td>Normal</td>\n",
       "      <td>1.0</td>\n",
       "      <td>5.0</td>\n",
       "    </tr>\n",
       "    <tr>\n",
       "      <th>2</th>\n",
       "      <td>R051</td>\n",
       "      <td>12/25/2010</td>\n",
       "      <td>09:01:47</td>\n",
       "      <td>59 ST</td>\n",
       "      <td>Normal</td>\n",
       "      <td>4.0</td>\n",
       "      <td>12.0</td>\n",
       "    </tr>\n",
       "    <tr>\n",
       "      <th>3</th>\n",
       "      <td>R051</td>\n",
       "      <td>12/25/2010</td>\n",
       "      <td>09:03:29</td>\n",
       "      <td>59 ST</td>\n",
       "      <td>Normal</td>\n",
       "      <td>0.0</td>\n",
       "      <td>0.0</td>\n",
       "    </tr>\n",
       "    <tr>\n",
       "      <th>4</th>\n",
       "      <td>R051</td>\n",
       "      <td>12/25/2010</td>\n",
       "      <td>09:05:29</td>\n",
       "      <td>59 ST</td>\n",
       "      <td>Normal</td>\n",
       "      <td>0.0</td>\n",
       "      <td>0.0</td>\n",
       "    </tr>\n",
       "  </tbody>\n",
       "</table>\n",
       "</div>"
      ],
      "text/plain": [
       "  Remote        Date      Hour Station   Event  Entry  Exit\n",
       "0   R051  12/25/2010  03:00:00   59 ST  Normal    0.0   0.0\n",
       "1   R051  12/25/2010  07:00:00   59 ST  Normal    1.0   5.0\n",
       "2   R051  12/25/2010  09:01:47   59 ST  Normal    4.0  12.0\n",
       "3   R051  12/25/2010  09:03:29   59 ST  Normal    0.0   0.0\n",
       "4   R051  12/25/2010  09:05:29   59 ST  Normal    0.0   0.0"
      ]
     },
     "execution_count": 9,
     "metadata": {},
     "output_type": "execute_result"
    }
   ],
   "source": [
    "y2011.head()"
   ]
  },
  {
   "cell_type": "code",
   "execution_count": 10,
   "metadata": {
    "collapsed": false
   },
   "outputs": [
    {
     "data": {
      "text/html": [
       "<div>\n",
       "<table border=\"1\" class=\"dataframe\">\n",
       "  <thead>\n",
       "    <tr style=\"text-align: right;\">\n",
       "      <th></th>\n",
       "      <th>Remote</th>\n",
       "      <th>Date</th>\n",
       "      <th>Hour</th>\n",
       "      <th>Station</th>\n",
       "      <th>Event</th>\n",
       "      <th>Entry</th>\n",
       "      <th>Exit</th>\n",
       "    </tr>\n",
       "  </thead>\n",
       "  <tbody>\n",
       "    <tr>\n",
       "      <th>0</th>\n",
       "      <td>R051</td>\n",
       "      <td>12/31/2011</td>\n",
       "      <td>03:00:00</td>\n",
       "      <td>59 ST</td>\n",
       "      <td>Normal</td>\n",
       "      <td>0.0</td>\n",
       "      <td>0.0</td>\n",
       "    </tr>\n",
       "    <tr>\n",
       "      <th>1</th>\n",
       "      <td>R051</td>\n",
       "      <td>12/31/2011</td>\n",
       "      <td>07:00:00</td>\n",
       "      <td>59 ST</td>\n",
       "      <td>Normal</td>\n",
       "      <td>5.0</td>\n",
       "      <td>12.0</td>\n",
       "    </tr>\n",
       "    <tr>\n",
       "      <th>2</th>\n",
       "      <td>R051</td>\n",
       "      <td>12/31/2011</td>\n",
       "      <td>11:00:00</td>\n",
       "      <td>59 ST</td>\n",
       "      <td>Normal</td>\n",
       "      <td>49.0</td>\n",
       "      <td>58.0</td>\n",
       "    </tr>\n",
       "    <tr>\n",
       "      <th>3</th>\n",
       "      <td>R051</td>\n",
       "      <td>12/31/2011</td>\n",
       "      <td>15:00:00</td>\n",
       "      <td>59 ST</td>\n",
       "      <td>Normal</td>\n",
       "      <td>171.0</td>\n",
       "      <td>47.0</td>\n",
       "    </tr>\n",
       "    <tr>\n",
       "      <th>4</th>\n",
       "      <td>R051</td>\n",
       "      <td>12/31/2011</td>\n",
       "      <td>19:00:00</td>\n",
       "      <td>59 ST</td>\n",
       "      <td>Normal</td>\n",
       "      <td>297.0</td>\n",
       "      <td>47.0</td>\n",
       "    </tr>\n",
       "  </tbody>\n",
       "</table>\n",
       "</div>"
      ],
      "text/plain": [
       "  Remote        Date      Hour Station   Event  Entry  Exit\n",
       "0   R051  12/31/2011  03:00:00   59 ST  Normal    0.0   0.0\n",
       "1   R051  12/31/2011  07:00:00   59 ST  Normal    5.0  12.0\n",
       "2   R051  12/31/2011  11:00:00   59 ST  Normal   49.0  58.0\n",
       "3   R051  12/31/2011  15:00:00   59 ST  Normal  171.0  47.0\n",
       "4   R051  12/31/2011  19:00:00   59 ST  Normal  297.0  47.0"
      ]
     },
     "execution_count": 10,
     "metadata": {},
     "output_type": "execute_result"
    }
   ],
   "source": [
    "y2012.head()"
   ]
  },
  {
   "cell_type": "code",
   "execution_count": 11,
   "metadata": {
    "collapsed": false
   },
   "outputs": [
    {
     "data": {
      "text/html": [
       "<div>\n",
       "<table border=\"1\" class=\"dataframe\">\n",
       "  <thead>\n",
       "    <tr style=\"text-align: right;\">\n",
       "      <th></th>\n",
       "      <th>Remote</th>\n",
       "      <th>Date</th>\n",
       "      <th>Hour</th>\n",
       "      <th>Station</th>\n",
       "      <th>Event</th>\n",
       "      <th>Entry</th>\n",
       "      <th>Exit</th>\n",
       "    </tr>\n",
       "  </thead>\n",
       "  <tbody>\n",
       "    <tr>\n",
       "      <th>0</th>\n",
       "      <td>R051</td>\n",
       "      <td>12/29/2012</td>\n",
       "      <td>03:00:00</td>\n",
       "      <td>59 ST</td>\n",
       "      <td>Fog , Snow</td>\n",
       "      <td>0.0</td>\n",
       "      <td>0.0</td>\n",
       "    </tr>\n",
       "    <tr>\n",
       "      <th>1</th>\n",
       "      <td>R051</td>\n",
       "      <td>12/29/2012</td>\n",
       "      <td>07:00:00</td>\n",
       "      <td>59 ST</td>\n",
       "      <td>Fog , Snow</td>\n",
       "      <td>19.0</td>\n",
       "      <td>13.0</td>\n",
       "    </tr>\n",
       "    <tr>\n",
       "      <th>2</th>\n",
       "      <td>R051</td>\n",
       "      <td>12/29/2012</td>\n",
       "      <td>11:00:00</td>\n",
       "      <td>59 ST</td>\n",
       "      <td>Fog , Snow</td>\n",
       "      <td>80.0</td>\n",
       "      <td>86.0</td>\n",
       "    </tr>\n",
       "    <tr>\n",
       "      <th>3</th>\n",
       "      <td>R051</td>\n",
       "      <td>12/29/2012</td>\n",
       "      <td>15:00:00</td>\n",
       "      <td>59 ST</td>\n",
       "      <td>Fog , Snow</td>\n",
       "      <td>231.0</td>\n",
       "      <td>48.0</td>\n",
       "    </tr>\n",
       "    <tr>\n",
       "      <th>4</th>\n",
       "      <td>R051</td>\n",
       "      <td>12/29/2012</td>\n",
       "      <td>19:00:00</td>\n",
       "      <td>59 ST</td>\n",
       "      <td>Fog , Snow</td>\n",
       "      <td>308.0</td>\n",
       "      <td>49.0</td>\n",
       "    </tr>\n",
       "  </tbody>\n",
       "</table>\n",
       "</div>"
      ],
      "text/plain": [
       "  Remote        Date      Hour Station       Event  Entry  Exit\n",
       "0   R051  12/29/2012  03:00:00   59 ST  Fog , Snow    0.0   0.0\n",
       "1   R051  12/29/2012  07:00:00   59 ST  Fog , Snow   19.0  13.0\n",
       "2   R051  12/29/2012  11:00:00   59 ST  Fog , Snow   80.0  86.0\n",
       "3   R051  12/29/2012  15:00:00   59 ST  Fog , Snow  231.0  48.0\n",
       "4   R051  12/29/2012  19:00:00   59 ST  Fog , Snow  308.0  49.0"
      ]
     },
     "execution_count": 11,
     "metadata": {},
     "output_type": "execute_result"
    }
   ],
   "source": [
    "y2013.head()"
   ]
  },
  {
   "cell_type": "code",
   "execution_count": 12,
   "metadata": {
    "collapsed": false
   },
   "outputs": [
    {
     "data": {
      "text/html": [
       "<div>\n",
       "<table border=\"1\" class=\"dataframe\">\n",
       "  <thead>\n",
       "    <tr style=\"text-align: right;\">\n",
       "      <th></th>\n",
       "      <th>Remote</th>\n",
       "      <th>Date</th>\n",
       "      <th>Hour</th>\n",
       "      <th>Station</th>\n",
       "      <th>Event</th>\n",
       "      <th>Entry</th>\n",
       "      <th>Exit</th>\n",
       "    </tr>\n",
       "  </thead>\n",
       "  <tbody>\n",
       "    <tr>\n",
       "      <th>0</th>\n",
       "      <td>R051</td>\n",
       "      <td>12/28/2013</td>\n",
       "      <td>03:00:00</td>\n",
       "      <td>59 ST</td>\n",
       "      <td>Normal</td>\n",
       "      <td>0.0</td>\n",
       "      <td>0.0</td>\n",
       "    </tr>\n",
       "    <tr>\n",
       "      <th>1</th>\n",
       "      <td>R051</td>\n",
       "      <td>12/28/2013</td>\n",
       "      <td>07:00:00</td>\n",
       "      <td>59 ST</td>\n",
       "      <td>Normal</td>\n",
       "      <td>12.0</td>\n",
       "      <td>15.0</td>\n",
       "    </tr>\n",
       "    <tr>\n",
       "      <th>2</th>\n",
       "      <td>R051</td>\n",
       "      <td>12/28/2013</td>\n",
       "      <td>11:00:00</td>\n",
       "      <td>59 ST</td>\n",
       "      <td>Normal</td>\n",
       "      <td>51.0</td>\n",
       "      <td>91.0</td>\n",
       "    </tr>\n",
       "    <tr>\n",
       "      <th>3</th>\n",
       "      <td>R051</td>\n",
       "      <td>12/28/2013</td>\n",
       "      <td>15:00:00</td>\n",
       "      <td>59 ST</td>\n",
       "      <td>Normal</td>\n",
       "      <td>212.0</td>\n",
       "      <td>64.0</td>\n",
       "    </tr>\n",
       "    <tr>\n",
       "      <th>4</th>\n",
       "      <td>R051</td>\n",
       "      <td>12/28/2013</td>\n",
       "      <td>19:00:00</td>\n",
       "      <td>59 ST</td>\n",
       "      <td>Normal</td>\n",
       "      <td>336.0</td>\n",
       "      <td>70.0</td>\n",
       "    </tr>\n",
       "  </tbody>\n",
       "</table>\n",
       "</div>"
      ],
      "text/plain": [
       "  Remote        Date      Hour Station   Event  Entry  Exit\n",
       "0   R051  12/28/2013  03:00:00   59 ST  Normal    0.0   0.0\n",
       "1   R051  12/28/2013  07:00:00   59 ST  Normal   12.0  15.0\n",
       "2   R051  12/28/2013  11:00:00   59 ST  Normal   51.0  91.0\n",
       "3   R051  12/28/2013  15:00:00   59 ST  Normal  212.0  64.0\n",
       "4   R051  12/28/2013  19:00:00   59 ST  Normal  336.0  70.0"
      ]
     },
     "execution_count": 12,
     "metadata": {},
     "output_type": "execute_result"
    }
   ],
   "source": [
    "y2014_1.head()"
   ]
  },
  {
   "cell_type": "code",
   "execution_count": 13,
   "metadata": {
    "collapsed": false
   },
   "outputs": [
    {
     "data": {
      "text/html": [
       "<div>\n",
       "<table border=\"1\" class=\"dataframe\">\n",
       "  <thead>\n",
       "    <tr style=\"text-align: right;\">\n",
       "      <th></th>\n",
       "      <th>Remote</th>\n",
       "      <th>Date</th>\n",
       "      <th>Hour</th>\n",
       "      <th>Station</th>\n",
       "      <th>Event</th>\n",
       "      <th>Entry</th>\n",
       "      <th>Exit</th>\n",
       "    </tr>\n",
       "  </thead>\n",
       "  <tbody>\n",
       "    <tr>\n",
       "      <th>0</th>\n",
       "      <td>R001</td>\n",
       "      <td>10/11/2014</td>\n",
       "      <td>01:00:00</td>\n",
       "      <td>WHITEHALL ST</td>\n",
       "      <td>Rain</td>\n",
       "      <td>0.0</td>\n",
       "      <td>0.0</td>\n",
       "    </tr>\n",
       "    <tr>\n",
       "      <th>1</th>\n",
       "      <td>R001</td>\n",
       "      <td>10/11/2014</td>\n",
       "      <td>05:00:00</td>\n",
       "      <td>WHITEHALL ST</td>\n",
       "      <td>Rain</td>\n",
       "      <td>20.0</td>\n",
       "      <td>6.0</td>\n",
       "    </tr>\n",
       "    <tr>\n",
       "      <th>2</th>\n",
       "      <td>R001</td>\n",
       "      <td>10/11/2014</td>\n",
       "      <td>09:00:00</td>\n",
       "      <td>WHITEHALL ST</td>\n",
       "      <td>Rain</td>\n",
       "      <td>130.0</td>\n",
       "      <td>11.0</td>\n",
       "    </tr>\n",
       "    <tr>\n",
       "      <th>3</th>\n",
       "      <td>R001</td>\n",
       "      <td>10/11/2014</td>\n",
       "      <td>13:00:00</td>\n",
       "      <td>WHITEHALL ST</td>\n",
       "      <td>Rain</td>\n",
       "      <td>245.0</td>\n",
       "      <td>26.0</td>\n",
       "    </tr>\n",
       "    <tr>\n",
       "      <th>4</th>\n",
       "      <td>R001</td>\n",
       "      <td>10/11/2014</td>\n",
       "      <td>17:00:00</td>\n",
       "      <td>WHITEHALL ST</td>\n",
       "      <td>Rain</td>\n",
       "      <td>316.0</td>\n",
       "      <td>39.0</td>\n",
       "    </tr>\n",
       "  </tbody>\n",
       "</table>\n",
       "</div>"
      ],
      "text/plain": [
       "  Remote        Date      Hour       Station Event  Entry  Exit\n",
       "0   R001  10/11/2014  01:00:00  WHITEHALL ST  Rain    0.0   0.0\n",
       "1   R001  10/11/2014  05:00:00  WHITEHALL ST  Rain   20.0   6.0\n",
       "2   R001  10/11/2014  09:00:00  WHITEHALL ST  Rain  130.0  11.0\n",
       "3   R001  10/11/2014  13:00:00  WHITEHALL ST  Rain  245.0  26.0\n",
       "4   R001  10/11/2014  17:00:00  WHITEHALL ST  Rain  316.0  39.0"
      ]
     },
     "execution_count": 13,
     "metadata": {},
     "output_type": "execute_result"
    }
   ],
   "source": [
    "y2014_2.head()"
   ]
  },
  {
   "cell_type": "code",
   "execution_count": 14,
   "metadata": {
    "collapsed": false
   },
   "outputs": [
    {
     "data": {
      "text/html": [
       "<div>\n",
       "<table border=\"1\" class=\"dataframe\">\n",
       "  <thead>\n",
       "    <tr style=\"text-align: right;\">\n",
       "      <th></th>\n",
       "      <th>Remote</th>\n",
       "      <th>Date</th>\n",
       "      <th>Hour</th>\n",
       "      <th>Station</th>\n",
       "      <th>Event</th>\n",
       "      <th>Entry</th>\n",
       "      <th>Exit</th>\n",
       "    </tr>\n",
       "  </thead>\n",
       "  <tbody>\n",
       "    <tr>\n",
       "      <th>0</th>\n",
       "      <td>R051</td>\n",
       "      <td>12/27/2014</td>\n",
       "      <td>03:00:00</td>\n",
       "      <td>59 ST</td>\n",
       "      <td>Normal</td>\n",
       "      <td>0.0</td>\n",
       "      <td>0.0</td>\n",
       "    </tr>\n",
       "    <tr>\n",
       "      <th>1</th>\n",
       "      <td>R051</td>\n",
       "      <td>12/27/2014</td>\n",
       "      <td>07:00:00</td>\n",
       "      <td>59 ST</td>\n",
       "      <td>Normal</td>\n",
       "      <td>12.0</td>\n",
       "      <td>2.0</td>\n",
       "    </tr>\n",
       "    <tr>\n",
       "      <th>2</th>\n",
       "      <td>R051</td>\n",
       "      <td>12/27/2014</td>\n",
       "      <td>11:00:00</td>\n",
       "      <td>59 ST</td>\n",
       "      <td>Normal</td>\n",
       "      <td>57.0</td>\n",
       "      <td>7.0</td>\n",
       "    </tr>\n",
       "    <tr>\n",
       "      <th>3</th>\n",
       "      <td>R051</td>\n",
       "      <td>12/27/2014</td>\n",
       "      <td>15:00:00</td>\n",
       "      <td>59 ST</td>\n",
       "      <td>Normal</td>\n",
       "      <td>222.0</td>\n",
       "      <td>6.0</td>\n",
       "    </tr>\n",
       "    <tr>\n",
       "      <th>4</th>\n",
       "      <td>R051</td>\n",
       "      <td>12/27/2014</td>\n",
       "      <td>19:00:00</td>\n",
       "      <td>59 ST</td>\n",
       "      <td>Normal</td>\n",
       "      <td>457.0</td>\n",
       "      <td>5.0</td>\n",
       "    </tr>\n",
       "  </tbody>\n",
       "</table>\n",
       "</div>"
      ],
      "text/plain": [
       "  Remote        Date      Hour Station   Event  Entry  Exit\n",
       "0   R051  12/27/2014  03:00:00   59 ST  Normal    0.0   0.0\n",
       "1   R051  12/27/2014  07:00:00   59 ST  Normal   12.0   2.0\n",
       "2   R051  12/27/2014  11:00:00   59 ST  Normal   57.0   7.0\n",
       "3   R051  12/27/2014  15:00:00   59 ST  Normal  222.0   6.0\n",
       "4   R051  12/27/2014  19:00:00   59 ST  Normal  457.0   5.0"
      ]
     },
     "execution_count": 14,
     "metadata": {},
     "output_type": "execute_result"
    }
   ],
   "source": [
    "y2015.head()"
   ]
  },
  {
   "cell_type": "code",
   "execution_count": 15,
   "metadata": {
    "collapsed": false
   },
   "outputs": [
    {
     "data": {
      "text/html": [
       "<div>\n",
       "<table border=\"1\" class=\"dataframe\">\n",
       "  <thead>\n",
       "    <tr style=\"text-align: right;\">\n",
       "      <th></th>\n",
       "      <th>Remote</th>\n",
       "      <th>Date</th>\n",
       "      <th>Hour</th>\n",
       "      <th>Station</th>\n",
       "      <th>Event</th>\n",
       "      <th>Entry</th>\n",
       "      <th>Exit</th>\n",
       "    </tr>\n",
       "  </thead>\n",
       "  <tbody>\n",
       "    <tr>\n",
       "      <th>0</th>\n",
       "      <td>R051</td>\n",
       "      <td>12/26/2015</td>\n",
       "      <td>03:00:00</td>\n",
       "      <td>59 ST</td>\n",
       "      <td>Rain</td>\n",
       "      <td>0.0</td>\n",
       "      <td>0.0</td>\n",
       "    </tr>\n",
       "    <tr>\n",
       "      <th>1</th>\n",
       "      <td>R051</td>\n",
       "      <td>12/26/2015</td>\n",
       "      <td>07:00:00</td>\n",
       "      <td>59 ST</td>\n",
       "      <td>Rain</td>\n",
       "      <td>3.0</td>\n",
       "      <td>1.0</td>\n",
       "    </tr>\n",
       "    <tr>\n",
       "      <th>2</th>\n",
       "      <td>R051</td>\n",
       "      <td>12/26/2015</td>\n",
       "      <td>11:00:00</td>\n",
       "      <td>59 ST</td>\n",
       "      <td>Rain</td>\n",
       "      <td>74.0</td>\n",
       "      <td>9.0</td>\n",
       "    </tr>\n",
       "    <tr>\n",
       "      <th>3</th>\n",
       "      <td>R051</td>\n",
       "      <td>12/26/2015</td>\n",
       "      <td>15:00:00</td>\n",
       "      <td>59 ST</td>\n",
       "      <td>Rain</td>\n",
       "      <td>204.0</td>\n",
       "      <td>7.0</td>\n",
       "    </tr>\n",
       "    <tr>\n",
       "      <th>4</th>\n",
       "      <td>R051</td>\n",
       "      <td>12/26/2015</td>\n",
       "      <td>19:00:00</td>\n",
       "      <td>59 ST</td>\n",
       "      <td>Rain</td>\n",
       "      <td>359.0</td>\n",
       "      <td>7.0</td>\n",
       "    </tr>\n",
       "  </tbody>\n",
       "</table>\n",
       "</div>"
      ],
      "text/plain": [
       "  Remote        Date      Hour Station Event  Entry  Exit\n",
       "0   R051  12/26/2015  03:00:00   59 ST  Rain    0.0   0.0\n",
       "1   R051  12/26/2015  07:00:00   59 ST  Rain    3.0   1.0\n",
       "2   R051  12/26/2015  11:00:00   59 ST  Rain   74.0   9.0\n",
       "3   R051  12/26/2015  15:00:00   59 ST  Rain  204.0   7.0\n",
       "4   R051  12/26/2015  19:00:00   59 ST  Rain  359.0   7.0"
      ]
     },
     "execution_count": 15,
     "metadata": {},
     "output_type": "execute_result"
    }
   ],
   "source": [
    "y2016.head()"
   ]
  },
  {
   "cell_type": "code",
   "execution_count": 16,
   "metadata": {
    "collapsed": true
   },
   "outputs": [],
   "source": [
    "completeData.to_csv('clean-mta-data', index=False, encoding='utf-8')"
   ]
  },
  {
   "cell_type": "code",
   "execution_count": null,
   "metadata": {
    "collapsed": true
   },
   "outputs": [],
   "source": []
  }
 ],
 "metadata": {
  "anaconda-cloud": {},
  "kernelspec": {
   "display_name": "Python [conda env:python2]",
   "language": "python",
   "name": "conda-env-python2-py"
  },
  "language_info": {
   "codemirror_mode": {
    "name": "ipython",
    "version": 2
   },
   "file_extension": ".py",
   "mimetype": "text/x-python",
   "name": "python",
   "nbconvert_exporter": "python",
   "pygments_lexer": "ipython2",
   "version": "2.7.13"
  }
 },
 "nbformat": 4,
 "nbformat_minor": 0
}

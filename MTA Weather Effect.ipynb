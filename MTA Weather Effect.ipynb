{
 "cells": [
  {
   "cell_type": "markdown",
   "metadata": {},
   "source": [
    "# How does weather affect the amount of people using the station? #"
   ]
  },
  {
   "cell_type": "code",
   "execution_count": 14,
   "metadata": {
    "collapsed": true
   },
   "outputs": [],
   "source": [
    "import csv\n",
    "import itertools"
   ]
  },
  {
   "cell_type": "code",
   "execution_count": 72,
   "metadata": {
    "collapsed": false
   },
   "outputs": [
    {
     "data": {
      "text/plain": [
       "[('Fog , Rain , 01/02/2011', 2363065.0),\n",
       " ('Fog , Rain , Snow , 01/26/2011', 5040664.0),\n",
       " ('Fog , Snow , 01/07/2011', 5083468.0),\n",
       " ('Fog , Snow , 01/11/2011', 5315070.0),\n",
       " ('Fog , Snow , 01/12/2011', 4226676.0),\n",
       " ('Fog , Snow , 01/21/2011', 5207506.0),\n",
       " ('Fog , Snow , 01/25/2011', 5182573.0),\n",
       " ('Fog , Snow , 01/27/2011', 1728183.0),\n",
       " ('Normal , 01/01/2011', 2373353.0),\n",
       " ('Normal , 01/03/2011', 5101137.0)]"
      ]
     },
     "execution_count": 72,
     "metadata": {},
     "output_type": "execute_result"
    }
   ],
   "source": [
    "# this will group by Date and Event. then add all Entry. then get rid of data before 2011\n",
    "def mapper1(row):\n",
    "    return (row['Event'],row['Date'],row['Entry'])\n",
    "\n",
    "def reducer1(counts, pair):\n",
    "    if pair[1].split('/')[2] > '2010':\n",
    "        counts[pair[0]+' , '+pair[1]] = counts.get(pair[0]+' , '+pair[1], 0)+float(pair[2])\n",
    "    return counts\n",
    "\n",
    "with open('dataset/clean-mta-data.csv') as csvfile:\n",
    "    reader = itertools.islice(csv.DictReader(csvfile), 1000000)\n",
    "    output1 = sorted(reduce(reducer1, map(mapper1, reader), {}).items())\n",
    "    \n",
    "output1[:10] "
   ]
  },
  {
   "cell_type": "code",
   "execution_count": 69,
   "metadata": {
    "collapsed": false
   },
   "outputs": [
    {
     "data": {
      "text/plain": [
       "[('Fog , Rain , 01/02/2011', (2363065.0, 1)),\n",
       " ('Fog , Rain , Snow , 01/26/2011', (5040664.0, 1)),\n",
       " ('Fog , Snow , 01/07/2011', (5083468.0, 1)),\n",
       " ('Fog , Snow , 01/11/2011', (5315070.0, 1)),\n",
       " ('Fog , Snow , 01/12/2011', (4226676.0, 1)),\n",
       " ('Fog , Snow , 01/21/2011', (5207506.0, 1)),\n",
       " ('Fog , Snow , 01/25/2011', (5182573.0, 1)),\n",
       " ('Fog , Snow , 01/27/2011', (1728183.0, 1)),\n",
       " ('Normal , 01/01/2011', (2373353.0, 1)),\n",
       " ('Normal , 01/03/2011', (5101137.0, 1)),\n",
       " ('Normal , 01/04/2011', (5339289.0, 1)),\n",
       " ('Normal , 01/05/2011', (5385564.0, 1)),\n",
       " ('Normal , 01/06/2011', (5393485.0, 1)),\n",
       " ('Normal , 01/09/2011', (2229441.0, 1)),\n",
       " ('Normal , 01/10/2011', (5251284.0, 1)),\n",
       " ('Normal , 01/13/2011', (5412862.0, 1)),\n",
       " ('Normal , 01/14/2011', (5307673.0, 1)),\n",
       " ('Normal , 01/15/2011', (2743406.0, 1)),\n",
       " ('Normal , 01/16/2011', (2219698.0, 1)),\n",
       " ('Normal , 01/17/2011', (3207661.0, 1)),\n",
       " ('Normal , 01/20/2011', (5464439.0, 1)),\n",
       " ('Normal , 01/22/2011', (2722734.0, 1)),\n",
       " ('Normal , 01/23/2011', (2081851.0, 1)),\n",
       " ('Normal , 01/24/2011', (5128598.0, 1)),\n",
       " ('Rain , 01/19/2011', (5424773.0, 1)),\n",
       " ('Rain , Snow , 01/18/2011', (5090273.0, 1)),\n",
       " ('Snow , 01/08/2011', (2785091.0, 1))]"
      ]
     },
     "execution_count": 69,
     "metadata": {},
     "output_type": "execute_result"
    }
   ],
   "source": [
    "def mapper2(row):\n",
    "    return row\n",
    "\n",
    "def reducer2(counts, pair):\n",
    "    counts[pair[0]] = (pair[1],counts.get(pair[0],0)+1)\n",
    "    return counts\n",
    "\n",
    "\n",
    "output2 = sorted(reduce(reducer2, map(mapper2, output1), {}).items())\n",
    "    \n",
    "output2 "
   ]
  },
  {
   "cell_type": "code",
   "execution_count": null,
   "metadata": {
    "collapsed": true
   },
   "outputs": [],
   "source": []
  }
 ],
 "metadata": {
  "anaconda-cloud": {},
  "kernelspec": {
   "display_name": "Python [python2]",
   "language": "python",
   "name": "Python [python2]"
  },
  "language_info": {
   "codemirror_mode": {
    "name": "ipython",
    "version": 2
   },
   "file_extension": ".py",
   "mimetype": "text/x-python",
   "name": "python",
   "nbconvert_exporter": "python",
   "pygments_lexer": "ipython2",
   "version": "2.7.13"
  }
 },
 "nbformat": 4,
 "nbformat_minor": 0
}

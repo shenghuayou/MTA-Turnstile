{
 "cells": [
  {
   "cell_type": "code",
   "execution_count": 1,
   "metadata": {
    "collapsed": false
   },
   "outputs": [
    {
     "data": {
      "text/plain": [
       "<pyspark.context.SparkContext at 0x107d10d90>"
      ]
     },
     "execution_count": 1,
     "metadata": {},
     "output_type": "execute_result"
    }
   ],
   "source": [
    "sc"
   ]
  },
  {
   "cell_type": "code",
   "execution_count": 87,
   "metadata": {
    "collapsed": false
   },
   "outputs": [
    {
     "data": {
      "text/plain": [
       "[(('Spring', '34 ST-PENN STA'), 75062082),\n",
       " (('Winter', '34 ST-PENN STA'), 73585727),\n",
       " (('Summer', '34 ST-PENN STA'), 73333783),\n",
       " (('Fall', '34 ST-PENN STA'), 73013790),\n",
       " (('Spring', '42 ST-GRD CNTRL'), 63065595),\n",
       " (('Summer', '42 ST-GRD CNTRL'), 62449863),\n",
       " (('Fall', '42 ST-GRD CNTRL'), 61380125),\n",
       " (('Winter', '42 ST-GRD CNTRL'), 60425383),\n",
       " (('Winter', '34 ST-HERALD SQ'), 53123893),\n",
       " (('Spring', '34 ST-HERALD SQ'), 50445785)]"
      ]
     },
     "execution_count": 87,
     "metadata": {},
     "output_type": "execute_result"
    }
   ],
   "source": [
    "def mapper1(index,data):\n",
    "    # skip header row\n",
    "    if index==0:\n",
    "        data.next()\n",
    "    import csv\n",
    "    reader = csv.reader(data)\n",
    "    for row in reader:\n",
    "        if row[1].split('/')[2] != '2010':\n",
    "            month = row[1].split('/')[0]\n",
    "            station = row[3]\n",
    "            numPeople = row[5].split('.')[0]\n",
    "            if month[0] == '0':\n",
    "                month = month[1]\n",
    "\n",
    "            if month == '3' or month == '4' or month == '5':\n",
    "                yield (('Spring', station), int(numPeople))\n",
    "            elif month == '6' or month == '7' or month == '8':\n",
    "                yield (('Summer', station), int(numPeople))\n",
    "            elif month == '9' or month == '10' or month == '11':\n",
    "                yield (('Fall', station), int(numPeople))\n",
    "            else:\n",
    "                yield (('Winter', station), int(numPeople))\n",
    "        \n",
    "mtaData = sc.textFile('dataset/clean-mta-data/clean-mta-data.csv',use_unicode=False).cache()\n",
    "\n",
    "# sum up all the entry by weather\n",
    "# returns (event, total_people)\n",
    "rdd1 = mtaData.mapPartitionsWithIndex(mapper1)    \\\n",
    "                    .reduceByKey(lambda x,y: x+y) \\\n",
    "                    .sortBy(lambda x: x[1],ascending=False)\n",
    "\n",
    "rdd1.take(10)"
   ]
  },
  {
   "cell_type": "code",
   "execution_count": 88,
   "metadata": {
    "collapsed": false
   },
   "outputs": [
    {
     "data": {
      "text/plain": [
       "[(('Spring', '34 ST-PENN STA'), 75062082),\n",
       " (('Spring', '42 ST-GRD CNTRL'), 63065595),\n",
       " (('Spring', '34 ST-HERALD SQ'), 50445785),\n",
       " (('Spring', '86 ST'), 48336234),\n",
       " (('Spring', '14 ST-UNION SQ'), 45592960),\n",
       " (('Spring', '42 ST-PA BUS TE'), 41373075),\n",
       " (('Spring', '42 ST-TIMES SQ'), 39134843),\n",
       " (('Spring', '96 ST'), 35488830),\n",
       " (('Spring', '125 ST'), 35239038),\n",
       " (('Spring', 'FULTON ST'), 34440217)]"
      ]
     },
     "execution_count": 88,
     "metadata": {},
     "output_type": "execute_result"
    }
   ],
   "source": [
    "rdd2 = rdd1.filter(lambda x: 'Spring' in x[0])\n",
    "rdd2.take(10)"
   ]
  },
  {
   "cell_type": "code",
   "execution_count": 89,
   "metadata": {
    "collapsed": false
   },
   "outputs": [
    {
     "data": {
      "text/plain": [
       "[(('Summer', '34 ST-PENN STA'), 73333783),\n",
       " (('Summer', '42 ST-GRD CNTRL'), 62449863),\n",
       " (('Summer', '34 ST-HERALD SQ'), 48578546),\n",
       " (('Summer', '86 ST'), 44222320),\n",
       " (('Summer', '14 ST-UNION SQ'), 44190218),\n",
       " (('Summer', '42 ST-PA BUS TE'), 40996359),\n",
       " (('Summer', '42 ST-TIMES SQ'), 39624473),\n",
       " (('Summer', 'FULTON ST'), 34662545),\n",
       " (('Summer', '125 ST'), 33109561),\n",
       " (('Summer', '96 ST'), 32549552)]"
      ]
     },
     "execution_count": 89,
     "metadata": {},
     "output_type": "execute_result"
    }
   ],
   "source": [
    "rdd3 = rdd1.filter(lambda x: 'Summer' in x[0])\n",
    "rdd3.take(10)"
   ]
  },
  {
   "cell_type": "code",
   "execution_count": 90,
   "metadata": {
    "collapsed": false
   },
   "outputs": [
    {
     "data": {
      "text/plain": [
       "[(('Fall', '34 ST-PENN STA'), 73013790),\n",
       " (('Fall', '42 ST-GRD CNTRL'), 61380125),\n",
       " (('Fall', '34 ST-HERALD SQ'), 49500820),\n",
       " (('Fall', '86 ST'), 47428122),\n",
       " (('Fall', '14 ST-UNION SQ'), 44512456),\n",
       " (('Fall', '42 ST-PA BUS TE'), 40515056),\n",
       " (('Fall', '42 ST-TIMES SQ'), 39592420),\n",
       " (('Fall', 'FULTON ST'), 34750229),\n",
       " (('Fall', '96 ST'), 34407928),\n",
       " (('Fall', '125 ST'), 34188308)]"
      ]
     },
     "execution_count": 90,
     "metadata": {},
     "output_type": "execute_result"
    }
   ],
   "source": [
    "rdd4 = rdd1.filter(lambda x: 'Fall' in x[0])\n",
    "rdd4.take(10)"
   ]
  },
  {
   "cell_type": "code",
   "execution_count": 86,
   "metadata": {
    "collapsed": false
   },
   "outputs": [
    {
     "data": {
      "text/plain": [
       "[(('Winter', '34 ST-PENN STA'), 3332634),\n",
       " (('Winter', '42 ST-GRD CNTRL'), 2694164),\n",
       " (('Winter', '34 ST-HERALD SQ'), 2425989),\n",
       " (('Winter', '86 ST'), 2163883),\n",
       " (('Winter', '14 ST-UNION SQ'), 1892127),\n",
       " (('Winter', '42 ST-PA BUS TE'), 1825622),\n",
       " (('Winter', '42 ST-TIMES SQ'), 1817106),\n",
       " (('Winter', '59 ST-COLUMBUS'), 1702549),\n",
       " (('Winter', '59 ST'), 1560263),\n",
       " (('Winter', '96 ST'), 1512026)]"
      ]
     },
     "execution_count": 86,
     "metadata": {},
     "output_type": "execute_result"
    }
   ],
   "source": [
    "rdd5 = rdd1.filter(lambda x: 'Winter' in x[0])\n",
    "rdd5.take(10)"
   ]
  },
  {
   "cell_type": "code",
   "execution_count": null,
   "metadata": {
    "collapsed": true
   },
   "outputs": [],
   "source": []
  }
 ],
 "metadata": {
  "anaconda-cloud": {},
  "kernelspec": {
   "display_name": "Python [python2]",
   "language": "python",
   "name": "Python [python2]"
  },
  "language_info": {
   "codemirror_mode": {
    "name": "ipython",
    "version": 2
   },
   "file_extension": ".py",
   "mimetype": "text/x-python",
   "name": "python",
   "nbconvert_exporter": "python",
   "pygments_lexer": "ipython2",
   "version": "2.7.13"
  }
 },
 "nbformat": 4,
 "nbformat_minor": 0
}
